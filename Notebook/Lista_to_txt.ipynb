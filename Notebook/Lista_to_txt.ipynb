{
 "cells": [
  {
   "cell_type": "code",
   "execution_count": 1,
   "metadata": {},
   "outputs": [],
   "source": [
    "import pandas as pd"
   ]
  },
  {
   "cell_type": "code",
   "execution_count": 2,
   "metadata": {},
   "outputs": [
    {
     "name": "stdout",
     "output_type": "stream",
     "text": [
      "Winota, Joiner of Forces\n"
     ]
    }
   ],
   "source": [
    "column = [str(input())]\n",
    "reading_route = r\"C:\\Users\\dfernandez\\Documents\\Proyectos_Python\\Commander\\Datos\\Decklists.xlsx\"\n",
    "writting_route = r\"C:\\Users\\dfernandez\\Documents\\Proyectos_Python\\Commander\\Datos\\Decklists_txt\"\n",
    "df = pd.read_excel(reading_route, usecols=column)"
   ]
  },
  {
   "cell_type": "code",
   "execution_count": 3,
   "metadata": {},
   "outputs": [],
   "source": [
    "lista = []\n",
    "lista.append(column[0])\n",
    "for e in df[column[0]]:\n",
    "    lista.append(e)"
   ]
  },
  {
   "cell_type": "code",
   "execution_count": 4,
   "metadata": {},
   "outputs": [],
   "source": [
    "with open(writting_route + f\"\\{column[0]}.txt\", \"w\") as output:\n",
    "    for item in lista:\n",
    "        output.write(str(item))\n",
    "        output.write(\"\\n\")"
   ]
  },
  {
   "cell_type": "code",
   "execution_count": null,
   "metadata": {},
   "outputs": [],
   "source": []
  }
 ],
 "metadata": {
  "kernelspec": {
   "display_name": "Python 3",
   "language": "python",
   "name": "python3"
  },
  "language_info": {
   "codemirror_mode": {
    "name": "ipython",
    "version": 3
   },
   "file_extension": ".py",
   "mimetype": "text/x-python",
   "name": "python",
   "nbconvert_exporter": "python",
   "pygments_lexer": "ipython3",
   "version": "3.8.6"
  }
 },
 "nbformat": 4,
 "nbformat_minor": 4
}
