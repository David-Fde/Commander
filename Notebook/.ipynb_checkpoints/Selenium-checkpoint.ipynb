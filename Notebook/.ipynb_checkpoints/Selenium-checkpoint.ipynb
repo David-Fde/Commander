{
 "cells": [
  {
   "cell_type": "code",
   "execution_count": 1,
   "metadata": {},
   "outputs": [],
   "source": [
    "from selenium import webdriver\n",
    "from selenium.webdriver.common.by import By\n",
    "from selenium.webdriver.support.ui import WebDriverWait\n",
    "from selenium.webdriver.support import expected_conditions as EC\n",
    "from selenium.webdriver.common.keys import Keys\n",
    "import time\n",
    "import pandas as pd\n",
    "import os\n",
    "\n",
    "PATH = r\"C:\\Program Files (x86)\\chromedriver.exe\"\n",
    "driver = webdriver.Chrome(PATH)\n",
    "driver.get(\"https://tugbucket.net/tests/salvation/mtg_sets/\")\n",
    "url_destino = r\"..\\Colecciones\"\n",
    "downloaded_sets = []\n",
    "\n",
    "for e in os.listdir(url_destino):\n",
    "    downloaded_sets.append(e.split(\".xlsx\")[0])\n",
    "\n",
    "try:\n",
    "    search_set = WebDriverWait(driver, 20).until(\n",
    "        EC.presence_of_element_located((By.ID, \"set\"))\n",
    "    )\n",
    "except:\n",
    "    driver.quit()\n",
    "    \n",
    "long_list = driver.find_element_by_id(\"longlist\")\n",
    "continue_button = driver.find_element_by_id(\"startbutton\")\n",
    "\n",
    "x = search_set.text\n",
    "x = x.replace(\":\",\"\")\n",
    "\n",
    "sets_list = x\n",
    "sets_list = sets_list.split('\\n')\n",
    "\n",
    "for e in sets_list:\n",
    "    if e not in downloaded_sets:\n",
    "        search_set.send_keys(e)\n",
    "        long_list.click()\n",
    "        continue_button.click()\n",
    "        time.sleep(10)\n",
    "\n",
    "        elemento = driver.find_element_by_id(\"setJustGot\")\n",
    "        text = elemento.text\n",
    "        text = text.split('\\n')\n",
    "\n",
    "        df = pd.DataFrame()\n",
    "        try:\n",
    "            df[f'{e.split(\" \")[0]}'] = text\n",
    "            df.to_excel(f\"{url_destino}\\{e}.xlsx\", index=False)\n",
    "        except:\n",
    "            df[f'{e.split(\" \")[0]}'] = text\n",
    "            df.to_excel(f\"{url_destino}\\{e.split(' ')[-1]}.xlsx\", index=False) \n",
    "        \n",
    "driver.quit()"
   ]
  },
  {
   "cell_type": "code",
   "execution_count": 40,
   "metadata": {},
   "outputs": [
    {
     "name": "stdout",
     "output_type": "stream",
     "text": [
      "Time Spiral Remastered\n",
      "Kaldheim\n",
      "Kaldheim Commander\n",
      "Commander Collection: Green\n",
      "Commander Legends\n"
     ]
    }
   ],
   "source": [
    "from selenium import webdriver\n",
    "from selenium.webdriver.common.by import By\n",
    "from selenium.webdriver.support.ui import WebDriverWait\n",
    "from selenium.webdriver.support import expected_conditions as EC\n",
    "from selenium.webdriver.common.keys import Keys\n",
    "import time\n",
    "import pandas as pd\n",
    "import os\n",
    "PATH = r\"C:\\Program Files (x86)\\chromedriver.exe\"\n",
    "driver2 = webdriver.Chrome(PATH)\n",
    "driver2.get(\"https://scryfall.com/sets\")\n",
    "search_set2 = driver2.find_element_by_id(\"js-checklist\")\n",
    "new_list = []\n",
    "for e in search_set2.text.split(\"\\n\"):\n",
    "    try:\n",
    "        new_list.append(e)\n",
    "    except:\n",
    "        pass\n",
    "    numbers = [1,16,31,46,61]\n",
    "for x,y in enumerate(new_list):\n",
    "    if x in numbers:\n",
    "        print(y)\n",
    "driver2.quit()"
   ]
  },
  {
   "cell_type": "code",
   "execution_count": 33,
   "metadata": {},
   "outputs": [
    {
     "name": "stdout",
     "output_type": "stream",
     "text": [
      "Kaldheim Commander\n"
     ]
    }
   ],
   "source": [
    "print(new_list[31])"
   ]
  },
  {
   "cell_type": "code",
   "execution_count": null,
   "metadata": {},
   "outputs": [],
   "source": []
  }
 ],
 "metadata": {
  "kernelspec": {
   "display_name": "Python 3",
   "language": "python",
   "name": "python3"
  },
  "language_info": {
   "codemirror_mode": {
    "name": "ipython",
    "version": 3
   },
   "file_extension": ".py",
   "mimetype": "text/x-python",
   "name": "python",
   "nbconvert_exporter": "python",
   "pygments_lexer": "ipython3",
   "version": "3.8.7"
  }
 },
 "nbformat": 4,
 "nbformat_minor": 4
}
