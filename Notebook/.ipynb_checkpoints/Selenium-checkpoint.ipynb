{
 "cells": [
  {
   "cell_type": "code",
   "execution_count": 195,
   "metadata": {},
   "outputs": [],
   "source": [
    "from selenium import webdriver\n",
    "from selenium.webdriver.common.by import By\n",
    "from selenium.webdriver.support.ui import WebDriverWait\n",
    "from selenium.webdriver.support import expected_conditions as EC\n",
    "from selenium.webdriver.common.keys import Keys\n",
    "import time\n",
    "import os\n",
    "import pyautogui\n",
    "import pickle\n",
    "\n",
    "PATH = r\"C:\\Program Files (x86)\\chromedriver.exe\" # Path to chrome driver, needed for use selenium in chrome.\n",
    "driver = webdriver.Chrome(PATH)\n",
    "driver.get(\"https://tugbucket.net/tests/salvation/mtg_sets/\")\n",
    "driver2 = webdriver.Chrome(PATH)\n",
    "driver2.get(\"https://scryfall.com/sets\")\n",
    "set_by_name = r\"..\\Datos\\Database by set\\Set by name\"\n",
    "set_with_text_box = r\"..\\Datos\\Database by set\\Set with text box\"\n",
    "skryfall_list = []\n",
    "newest_sets = []\n",
    "pickle_database = {}\n",
    "sets_database = []\n",
    "numbers = [1,16,31,46] # This list is to get the 4 newest sets from skryfall, the data got from skryfall has a set name each 15 positions.\n",
    "with open(r'..\\Datos\\downloaded_sets.txt', 'rb') as handle:\n",
    "    sets_database = pickle.load(handle)\n",
    "pyautogui.hotkey('win', 'm') # Minimize all windows.\n",
    "\n",
    "search_set2 = driver2.find_element_by_id(\"js-checklist\") # Goes to skryfall and get a list of all sets ordered by date.\n",
    "for e in search_set2.text.split(\"\\n\"):\n",
    "    try:\n",
    "        skryfall_list.append(e)\n",
    "    except:\n",
    "        pass\n",
    "driver2.quit()\n",
    "    \n",
    "for x,y in enumerate(new_list): # Filter the skryfall set list to only keep the 6 newest sets.\n",
    "    if x in numbers:\n",
    "        newest_sets.append(y)\n",
    "        \n",
    "for e in newest_sets:\n",
    "    if e not in sets_database:\n",
    "        sets_database.append(e)\n",
    "        with open(r'..\\Datos\\downloaded_sets.txt', 'wb') as fp: # Read sets names from file.\n",
    "            pickle.dump(sets_database, fp)\n",
    "try: # Wait until there is a set displayed in tgbucket.\n",
    "    search_set = WebDriverWait(driver, 20).until(\n",
    "        EC.presence_of_element_located((By.ID, \"set\"))\n",
    "    )\n",
    "except:\n",
    "    driver.quit()\n",
    "    \n",
    "text_spoiler = driver.find_element_by_id(\"spoilerlist\")\n",
    "continue_button = driver.find_element_by_id(\"startbutton\")\n",
    "\n",
    "# Get rid of non accepted icons.\n",
    "x = search_set.text\n",
    "x = x.replace(\":\",\"\")\n",
    "x = x.replace(\"/\",\"\")\n",
    "sets_list = x\n",
    "sets_list = sets_list.split('\\n')\n",
    "\n",
    "for e in range(len(newest_sets)): # Get rid of non accepted icons.\n",
    "    newest_sets[e] = newest_sets[e].replace(\":\",\"\")\n",
    "    newest_sets[e] = newest_sets[e].replace(\"/\",\"\")\n",
    "for x,y in enumerate(skryfall_list): # Filter the skryfall set list to only keep the 6 newest sets.\n",
    "    if x in numbers:\n",
    "        newest_sets.append(y)\n",
    "sets_database = [] # Borrar despues de ejecutar (Sirve para rellenar la base la primera vez)\n",
    "for e in sets_list: # Get a new set only if it is not in the downloaded_sets folder or if it is one of the 4 newest sets.\n",
    "    if e not in sets_database or e in newest_sets:\n",
    "        search_set.send_keys(e)\n",
    "        text_spoiler.click()\n",
    "        continue_button.click()\n",
    "        time.sleep(10)\n",
    "        try:\n",
    "            elemento = driver.find_element_by_class_name(\"text-grid-inner\")\n",
    "            text = elemento.text\n",
    "            text = text.split('\\n')      \n",
    "\n",
    "            for grq in elemento.find_elements_by_class_name(\"grq\"):\n",
    "                pickle_database.update({(grq.text.split(\"\\n\")[0]) : grq.text.split(\"\\n\")[1:]}) \n",
    "        except:\n",
    "            pass\n",
    "\n",
    "with open(r'..\\Datos\\pickle_database.pickle', 'wb') as handle: # Save mtg Database in .pickle format.\n",
    "    pickle.dump(pickle_database, handle, protocol=pickle.HIGHEST_PROTOCOL) \n",
    "\n",
    "driver.quit()"
   ]
  },
  {
   "cell_type": "code",
   "execution_count": 202,
   "metadata": {},
   "outputs": [
    {
     "name": "stdout",
     "output_type": "stream",
     "text": [
      "Entrada: Deeproot Champion\n"
     ]
    }
   ],
   "source": [
    "entrada = str(input(\"Entrada: \"))"
   ]
  },
  {
   "cell_type": "code",
   "execution_count": 196,
   "metadata": {},
   "outputs": [],
   "source": [
    "with open(r'..\\Datos\\pickle_database.pickle', 'rb') as handle:\n",
    "    b = pickle.load(handle)"
   ]
  },
  {
   "cell_type": "code",
   "execution_count": 197,
   "metadata": {},
   "outputs": [
    {
     "data": {
      "text/plain": [
       "23241"
      ]
     },
     "execution_count": 197,
     "metadata": {},
     "output_type": "execute_result"
    }
   ],
   "source": [
    "len(b)"
   ]
  },
  {
   "cell_type": "code",
   "execution_count": 207,
   "metadata": {},
   "outputs": [
    {
     "data": {
      "text/plain": [
       "['{G}', 'Creature — Bird', 'Flying', '{T}: Add one mana of any color.', '0/1']"
      ]
     },
     "execution_count": 207,
     "metadata": {},
     "output_type": "execute_result"
    }
   ],
   "source": [
    "b[\"Birds of Paradise\"]"
   ]
  },
  {
   "cell_type": "code",
   "execution_count": 203,
   "metadata": {},
   "outputs": [],
   "source": [
    "import pandas as pd\n",
    "df = pd.read_excel(\"..\\Datos\\Decklists.xlsx\")"
   ]
  },
  {
   "cell_type": "code",
   "execution_count": 210,
   "metadata": {},
   "outputs": [
    {
     "name": "stdout",
     "output_type": "stream",
     "text": [
      "['{G}', 'Creature — Bird', 'Flying', '{T}: Add one mana of any color.', '0/1']\n",
      "['{B/G}', 'Creature — Elf Shaman', '{T}: Exile target land card from a graveyard. Add one mana of any color.', '{B}, {T}: Exile target instant or sorcery card from a graveyard. Each opponent loses 2 life.', '{G}, {T}: Exile target creature card from a graveyard. You gain 2 life.', '1/2']\n",
      "['{G}', 'Creature — Elf Druid', '{T}: Add {B}. Elves of Deep Shadow deals 1 damage to you.', '1/1']\n",
      "['{G}', 'Creature — Elf Druid', '{T}: Add {G}.', '1/1']\n",
      "['{G}', 'Creature — Elf Druid', '{T}: Add {G}.', '1/1']\n",
      "['{G}', 'Creature — Elf Druid', '{T}: Add {G}.', '1/1']\n",
      "['{G}', 'Creature — Human Wizard', 'Sacrifice a land: Target creature you control gains shroud until end of turn. (It can’t be the target of spells or abilities.)', '1/1']\n",
      "['{U}{B}', 'Artifact Creature — Bird', 'Flying, deathtouch', 'When Baleful Strix enters the battlefield, draw a card.', '1/1']\n",
      "['{1}{G}', 'Creature — Elf Druid', '{T}: For each color among permanents you control, add one mana of that color.', '1/1']\n",
      "['{1}{U}', 'Creature — Human Wizard', 'Flash', 'When Snapcaster Mage enters the battlefield, target instant or sorcery card in your graveyard gains flashback until end of turn. The flashback cost is equal to its mana cost. (You may cast that card from your graveyard for its flashback cost. Then exile it.)', '2/1']\n",
      "['{1}{G}{G}', 'Creature — Human Shaman', 'When Eternal Witness enters the battlefield, you may return target card from your graveyard to your hand.', '2/1']\n",
      "['{2}{U}', 'Creature — Merfolk Pirate', 'Flash', 'If an opponent would draw a card except the first one they draw in each of their draw steps, instead you create a Treasure token. (It’s an artifact with “{T}, Sacrifice this artifact: Add one mana of any color.”)', '3/2']\n",
      "['{B}{G}{U}', 'Legendary Creature — Elf Advisor', 'Each opponent can’t draw more than one card each turn.', 'Whenever you or a permanent you control becomes the target of a spell or ability an opponent controls, you may draw a card.', '3/3']\n",
      "['{2}{B}', 'Creature — Human Rogue', 'Flash', 'You control your opponents while they’re searching their libraries.', 'While an opponent is searching their library, they exile each card they find. You may play those cards for as long as they remain exiled, and you may spend mana as though it were mana of any color to cast them.', '3/2']\n",
      "['{2}{U}', 'Creature — Human Wizard', 'When Spellseeker enters the battlefield, you may search your library for an instant or sorcery card with converted mana cost 2 or less, reveal it, put it into your hand, then shuffle your library.', '1/1']\n",
      "['{1}{U}{U}', 'Legendary Creature — Faerie Wizard', 'Flash', 'Flying', 'When Vendilion Clique enters the battlefield, look at target player’s hand. You may choose a nonland card from it. If you do, that player reveals the chosen card, puts it on the bottom of their library, then draws a card.', '3/1']\n",
      "['{2}{U}{B}', 'Creature — Human Rogue', 'Flash', 'If an opponent would draw a card except the first one they draw in each of their draw steps, instead that player skips that draw and you draw a card.', '3/1']\n",
      "['{2}{U}{U}', 'Legendary Creature — Human Wizard', 'Flash', 'When Venser, Shaper Savant enters the battlefield, return target spell or permanent to its owner’s hand.', '2/2']\n",
      "['{3}{G}{U}', 'Creature — Human Wizard', 'Untap all creatures and lands you control during each other player’s untap step.', 'You may cast creature spells as though they had flash.', '2/3']\n",
      "['{2}{U}{U}{U}', 'Legendary Creature — Human Wizard', 'Flash (You may cast this spell any time you could cast an instant.)', 'Creature cards you own that aren’t on the battlefield have flash.', 'Each opponent can cast spells only any time they could cast a sorcery.', '3/4']\n",
      "['{1}{U/B}{U/B}', 'Legendary Planeswalker — Ashiok', 'Spells and abilities your opponents control can’t cause their controller to search their library.', '−1: Target player mills four cards. Then exile each opponent’s graveyard.', 'Loyalty: 5']\n",
      "['{1}{U}{U}', 'Legendary Planeswalker — Narset', 'Each opponent can’t draw more than one card each turn.', '−2: Look at the top four cards of your library. You may reveal a noncreature, nonland card from among them and put it into your hand. Put the rest on the bottom of your library in a random order.', 'Loyalty: 5']\n",
      "['{1}{G}{U}', 'Legendary Planeswalker — Oko', '+2: Create a Food token. (It’s an artifact with “{2}, {T}, Sacrifice this artifact: You gain 3 life.”)', '+1: Target artifact or creature loses all abilities and becomes a green Elk creature with base power and toughness 3/3.', '−5: Exchange control of target artifact or creature you control and target creature an opponent controls with power 3 or less.', 'Loyalty: 4']\n",
      "['{2}{U}{U}', 'Legendary Planeswalker — Jace', '+2: Look at the top card of target player’s library. You may put that card on the bottom of that player’s library.', '0: Draw three cards, then put two cards from your hand on top of your library in any order.', '−1: Return target creature to its owner’s hand.', '−12: Exile all cards from target player’s library, then that player shuffles their hand into their library.', 'Loyalty: 3']\n",
      "['{U}', 'Instant', 'Draw three cards, then put two cards from your hand on top of your library in any order.']\n",
      "['{X}{G}', 'Sorcery', 'Search your library for a green creature card with converted mana cost X or less, put it onto the battlefield, then shuffle your library. Shuffle Green Sun’s Zenith into its owner’s library.']\n",
      "['{U/P}', 'Instant', '({U/P} can be paid with either {U} or 2 life.)', 'Counter target spell with converted mana cost 1.']\n",
      "['{U}', 'Instant', 'Search your library for an instant or sorcery card and reveal that card. Shuffle your library, then put the card on top of it.']\n",
      "['{U}', 'Sorcery', 'Look at the top three cards of your library, then put them back in any order. You may shuffle your library.', 'Draw a card.']\n",
      "['{U}', 'Sorcery', 'Scry 2, then draw a card. (To scry 2, look at the top two cards of your library, then put any number of them on the bottom of your library and the rest on top in any order.)']\n",
      "['{B}', 'Instant', 'Search your library for a card, then shuffle your library and put that card on top of it. You lose 2 life.']\n",
      "['{G}', 'Instant', 'Draw a card if an opponent has cast a blue or black spell this turn. Spells you control can’t be countered this turn. You and permanents you control gain hexproof from blue and from black until end of turn. (You and they can’t be the targets of blue or black spells or abilities your opponents control.)']\n",
      "['{B}{G}', 'Instant', 'This spell can’t be countered.', 'Destroy target nonland permanent with converted mana cost 3 or less.']\n",
      "['{1}{U}', 'Instant', 'Counter target spell. Its controller may draw up to two cards at the beginning of the next turn’s upkeep.', 'You draw a card at the beginning of the next turn’s upkeep.']\n",
      "['{B}{G}', 'Instant', 'Destroy target permanent an opponent controls. Its controller may search their library for a basic land card, put it onto the battlefield, then shuffle their library.']\n",
      "['{U}{U}', 'Instant', 'Counter target spell.']\n",
      "['{1}{U}', 'Instant', 'Return target nonland permanent you don’t control to its owner’s hand.', 'Overload {6}{U} (You may cast this spell for its overload cost. If you do, change its text by replacing all instances of “target” with “each.”)']\n",
      "['{1}{U}', 'Instant', 'Counter target spell. If the spell is countered this way, exile it with three time counters on it instead of putting it into its owner’s graveyard. If it doesn’t have suspend, it gains suspend. (At the beginning of its owner’s upkeep, remove a time counter from that card. When the last is removed, the player plays it without paying its mana cost. If it’s a creature, it has haste.)']\n",
      "['{1}{B}', 'Sorcery', 'Search your library for a card, put that card into your hand, then shuffle your library.']\n",
      "['{U}{B}', 'Instant', 'Choose one —', '• Counter target spell with converted mana cost less than or equal to the number of cards in its controller’s graveyard.', '• Destroy target creature with converted mana cost less than or equal to the number of cards in its controller’s graveyard.']\n",
      "['{X}{G}{G}', 'Sorcery', 'Search your library and/or graveyard for a creature card with converted mana cost X or less and put it onto the battlefield. If you search your library this way, shuffle it. If X is 10 or more, creatures you control get +X/+X and gain haste until end of turn.']\n",
      "['{1}{U}', 'Sorcery', 'Search your library for a blue instant card, reveal that card, and put it into your hand. Then shuffle your library.']\n",
      "['{1}{G}', 'Sorcery', 'Search your library for a Forest card and put that card onto the battlefield. Then shuffle your library.']\n",
      "['{1}{U}', 'Instant', 'Counter target noncreature spell.']\n",
      "['{1}{G}', 'Sorcery', 'Search your library for a Forest card, put that card onto the battlefield, then shuffle your library.']\n",
      "['{2}{U}', 'Sorcery', 'Each player shuffles their hand and graveyard into their library, then draws seven cards. If it’s your turn, end the turn. (Exile all spells and abilities from the stack, including this card. Discard down to your maximum hand size. Damage wears off, and “this turn” and “until end of turn” effects end.)']\n",
      "['{1}{U}{U}', 'Instant', 'Counter target spell. Its controller draws a card.', 'Draw a card.']\n",
      "['{2}{U}', 'Instant', 'If you control a commander, you may cast this spell without paying its mana cost.', 'Counter target noncreature spell.']\n",
      "['{1}{B}{B}', 'Instant', 'Destroy target creature or planeswalker.']\n",
      "['{1}{B}{G}', 'Sorcery', 'Destroy target nonland permanent and all other permanents with the same name as that permanent.']\n",
      "['{2}{B}', 'Sorcery', 'As an additional cost to cast this spell, pay X life.', 'All creatures get -X/-X until end of turn.']\n",
      "['{2}{U}', 'Sorcery', 'Each player discards their hand, then draws cards equal to the greatest number of cards a player discarded this way.']\n",
      "['{2}{B}{B}', 'Sorcery', 'Destroy all creatures. They can’t be regenerated.']\n",
      "['{3}{B}', 'Instant', 'If you control a commander, you may cast this spell without paying its mana cost.', 'Exile target creature.']\n",
      "['{3}{U}', 'Instant', 'Search your library for an instant card or a card with flash, reveal it, and put it into your hand. Then shuffle your library.', 'Flashback {5}{B} (You may cast this card from your graveyard for its flashback cost. Then exile it.)']\n",
      "['{3}{U}{U}', 'Instant', 'You may pay 1 life and exile a blue card from your hand rather than pay this spell’s mana cost.', 'Counter target spell.']\n",
      "['{3}{U}{U}', 'Instant', 'Choose three. You may choose the same mode more than once.', '• Counter target spell unless its controller pays {3}.', '• Return target creature to its owner’s hand.', '• Draw a card.']\n",
      "['{4}{U}{U}', 'Sorcery', 'Exile Time Spiral. Each player shuffles their hand and graveyard into their library, then draws seven cards. You untap up to six lands.']\n",
      "['{6}{U}{U}', 'Instant', 'Delve (Each card you exile from your graveyard while casting this spell pays for {1}.)', 'Look at the top seven cards of your library. Put two of them into your hand and the rest on the bottom of your library in any order.']\n",
      "['{7}{U}', 'Sorcery', 'Delve (Each card you exile from your graveyard while casting this spell pays for {1}.)', 'Draw three cards.']\n",
      "['{0}', 'Artifact', 'Imprint — When Chrome Mox enters the battlefield, you may exile a nonartifact, nonland card from your hand.', '{T}: Add one mana of any of the exiled card’s colors.']\n",
      "['{0}', 'Artifact', 'At the beginning of your upkeep, flip a coin. If you lose the flip, Mana Crypt deals 3 damage to you.', '{T}: Add {C}{C}.']\n",
      "['{0}', 'Artifact', 'If Mox Diamond would enter the battlefield, you may discard a land card instead. If you do, put Mox Diamond onto the battlefield. If you don’t, put it into its owner’s graveyard.', '{T}: Add one mana of any color.']\n",
      "['{1}', 'Artifact', '{T}: Add {C}{C}.']\n",
      "['{2}', 'Artifact', '{T}: Add one mana of any color in your commander’s color identity.']\n",
      "['{2}', 'Artifact', '{T}: Add one mana of any color that a land an opponent controls could produce.']\n",
      "['{4}', 'Artifact', 'At the beginning of each player’s draw step, that player puts the cards in their hand on the bottom of their library in any order, then draws that many cards.']\n",
      "['Land — Swamp Forest', '({T}: Add {B} or {G}.)']\n",
      "['Land', '{T}, Pay 1 life, Sacrifice Bloodstained Mire: Search your library for a Swamp or Mountain card, put it onto the battlefield, then shuffle your library.']\n",
      "['Land — Forest Island', '({T}: Add {G} or {U}.)', 'As Breeding Pool enters the battlefield, you may pay 2 life. If you don’t, it enters the battlefield tapped.']\n",
      "['Land', 'As Cavern of Souls enters the battlefield, choose a creature type.', '{T}: Add {C}.', '{T}: Add one mana of any color. Spend this mana only to cast a creature spell of the chosen type, and that spell can’t be countered.']\n",
      "['Land', '{T}: Add {U}.', 'Murkwater Pathway', 'Land', '{T}: Add {B}.']\n",
      "['Land', '{T}: Add one mana of any color in your commander’s color identity.']\n",
      "['Land Creature — Forest Dryad', '(Dryad Arbor isn’t a spell, it’s affected by summoning sickness, and it has “{T}: Add {G}.”)', '1/1']\n",
      "['Land', '{T}, Pay 1 life, Sacrifice Flooded Strand: Search your library for a Plains or Island card, put it onto the battlefield, then shuffle your library.']\n",
      "['Basic Land — Forest', '({T}: Add {G}.)']\n",
      "['Legendary Land', '{T}: Add {C}.', '{2}, {T}: Each player draws a card, then discards a card.']\n",
      "['Basic Land — Island', '({T}: Add {U}.)']\n",
      "['Land', '{T}, Pay 1 life, Sacrifice Marsh Flats: Search your library for a Plains or Swamp card, put it onto the battlefield, then shuffle your library.']\n",
      "['Land', '{T}, Pay 1 life, Sacrifice Misty Rainforest: Search your library for a Forest or Island card, put it onto the battlefield, then shuffle your library.']\n",
      "['Land', '{T}, Pay 1 life: Add {B} or {G}.', '{1}, {T}, Sacrifice Nurturing Peatland: Draw a card.']\n",
      "['Land — Swamp Forest', '({T}: Add {B} or {G}.)', 'As Overgrown Tomb enters the battlefield, you may pay 2 life. If you don’t, it enters the battlefield tapped.']\n",
      "['Land', '{T}, Pay 1 life, Sacrifice Polluted Delta: Search your library for an Island or Swamp card, put it onto the battlefield, then shuffle your library.']\n",
      "['Card', 'Prismatic Vista', 'Card']\n",
      "['Land', '{T}: Add one mana of any type that a land you control could produce.']\n",
      "['Land', '{T}: Add {C}.', '{1}{U}, {T}: Return target Wizard you control to its owner’s hand.']\n",
      "['Land', '{T}, Pay 1 life, Sacrifice Scalding Tarn: Search your library for an Island or Mountain card, put it onto the battlefield, then shuffle your library.']\n",
      "['Basic Snow Land — Forest', '({T}: Add {G}.)']\n",
      "['Basic Snow Land — Island', '({T}: Add {U}.)']\n",
      "['Basic Snow Land — Swamp', '({T}: Add {B}.)']\n",
      "['Basic Land — Swamp', '({T}: Add {B}.)']\n",
      "['Land — Forest Island', '({T}: Add {G} or {U}.)']\n",
      "['Land — Island Swamp', '({T}: Add {U} or {B}.)']\n",
      "['Land', '{T}, Pay 1 life, Sacrifice Verdant Catacombs: Search your library for a Swamp or Forest card, put it onto the battlefield, then shuffle your library.']\n",
      "['Land', '{T}: Add {C}.', '{T}, Sacrifice Wasteland: Destroy target nonbasic land.']\n",
      "['Land — Island Swamp', '({T}: Add {U} or {B}.)', 'As Watery Grave enters the battlefield, you may pay 2 life. If you don’t, it enters the battlefield tapped.']\n",
      "['Land', '{T}, Pay 1 life, Sacrifice Windswept Heath: Search your library for a Forest or Plains card, put it onto the battlefield, then shuffle your library.']\n",
      "['Land', '{T}, Pay 1 life, Sacrifice Wooded Foothills: Search your library for a Mountain or Forest card, put it onto the battlefield, then shuffle your library.']\n",
      "['Legendary Land', '{T}: Add {C}.', '{G}, {T}: Regenerate target creature.']\n"
     ]
    }
   ],
   "source": [
    "for e in df[\"Leovold,_Emissary_of_Trest08012021\"]:\n",
    "    if e in b:\n",
    "        print(b[f\"{e}\"])"
   ]
  },
  {
   "cell_type": "code",
   "execution_count": null,
   "metadata": {},
   "outputs": [],
   "source": []
  },
  {
   "cell_type": "code",
   "execution_count": null,
   "metadata": {},
   "outputs": [],
   "source": []
  }
 ],
 "metadata": {
  "kernelspec": {
   "display_name": "Python 3",
   "language": "python",
   "name": "python3"
  },
  "language_info": {
   "codemirror_mode": {
    "name": "ipython",
    "version": 3
   },
   "file_extension": ".py",
   "mimetype": "text/x-python",
   "name": "python",
   "nbconvert_exporter": "python",
   "pygments_lexer": "ipython3",
   "version": "3.8.7"
  }
 },
 "nbformat": 4,
 "nbformat_minor": 4
}
