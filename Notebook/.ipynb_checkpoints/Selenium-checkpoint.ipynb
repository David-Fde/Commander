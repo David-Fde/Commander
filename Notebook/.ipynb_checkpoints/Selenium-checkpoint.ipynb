{
 "cells": [
  {
   "cell_type": "code",
   "execution_count": 195,
   "metadata": {},
   "outputs": [],
   "source": [
    "from selenium import webdriver\n",
    "from selenium.webdriver.common.by import By\n",
    "from selenium.webdriver.support.ui import WebDriverWait\n",
    "from selenium.webdriver.support import expected_conditions as EC\n",
    "from selenium.webdriver.common.keys import Keys\n",
    "import time\n",
    "import os\n",
    "import pyautogui\n",
    "import pickle\n",
    "\n",
    "PATH = r\"C:\\Program Files (x86)\\chromedriver.exe\" # Path to chrome driver, needed for use selenium in chrome.\n",
    "driver = webdriver.Chrome(PATH)\n",
    "driver.get(\"https://tugbucket.net/tests/salvation/mtg_sets/\")\n",
    "driver2 = webdriver.Chrome(PATH)\n",
    "driver2.get(\"https://scryfall.com/sets\")\n",
    "set_by_name = r\"..\\Datos\\Database by set\\Set by name\"\n",
    "set_with_text_box = r\"..\\Datos\\Database by set\\Set with text box\"\n",
    "skryfall_list = []\n",
    "newest_sets = []\n",
    "pickle_database = {}\n",
    "sets_database = []\n",
    "numbers = [1,16,31,46] # This list is to get the 4 newest sets from skryfall, the data got from skryfall has a set name each 15 positions.\n",
    "with open(r'..\\Datos\\downloaded_sets.txt', 'rb') as handle:\n",
    "    sets_database = pickle.load(handle)\n",
    "pyautogui.hotkey('win', 'm') # Minimize all windows.\n",
    "\n",
    "search_set2 = driver2.find_element_by_id(\"js-checklist\") # Goes to skryfall and get a list of all sets ordered by date.\n",
    "for e in search_set2.text.split(\"\\n\"):\n",
    "    try:\n",
    "        skryfall_list.append(e)\n",
    "    except:\n",
    "        pass\n",
    "driver2.quit()\n",
    "    \n",
    "for x,y in enumerate(new_list): # Filter the skryfall set list to only keep the 6 newest sets.\n",
    "    if x in numbers:\n",
    "        newest_sets.append(y)\n",
    "        \n",
    "for e in newest_sets:\n",
    "    if e not in sets_database:\n",
    "        sets_database.append(e)\n",
    "        with open(r'..\\Datos\\downloaded_sets.txt', 'wb') as fp: # Read sets names from file.\n",
    "            pickle.dump(sets_database, fp)\n",
    "try: # Wait until there is a set displayed in tgbucket.\n",
    "    search_set = WebDriverWait(driver, 20).until(\n",
    "        EC.presence_of_element_located((By.ID, \"set\"))\n",
    "    )\n",
    "except:\n",
    "    driver.quit()\n",
    "    \n",
    "text_spoiler = driver.find_element_by_id(\"spoilerlist\")\n",
    "continue_button = driver.find_element_by_id(\"startbutton\")\n",
    "\n",
    "# Get rid of non accepted icons.\n",
    "x = search_set.text\n",
    "x = x.replace(\":\",\"\")\n",
    "x = x.replace(\"/\",\"\")\n",
    "sets_list = x\n",
    "sets_list = sets_list.split('\\n')\n",
    "\n",
    "for e in range(len(newest_sets)): # Get rid of non accepted icons.\n",
    "    newest_sets[e] = newest_sets[e].replace(\":\",\"\")\n",
    "    newest_sets[e] = newest_sets[e].replace(\"/\",\"\")\n",
    "for x,y in enumerate(skryfall_list): # Filter the skryfall set list to only keep the 6 newest sets.\n",
    "    if x in numbers:\n",
    "        newest_sets.append(y)\n",
    "sets_database = [] # Borrar despues de ejecutar (Sirve para rellenar la base la primera vez)\n",
    "for e in sets_list: # Get a new set only if it is not in the downloaded_sets folder or if it is one of the 4 newest sets.\n",
    "    if e not in sets_database or e in newest_sets:\n",
    "        search_set.send_keys(e)\n",
    "        text_spoiler.click()\n",
    "        continue_button.click()\n",
    "        time.sleep(10)\n",
    "        try:\n",
    "            elemento = driver.find_element_by_class_name(\"text-grid-inner\")\n",
    "            text = elemento.text\n",
    "            text = text.split('\\n')      \n",
    "\n",
    "            for grq in elemento.find_elements_by_class_name(\"grq\"):\n",
    "                pickle_database.update({(grq.text.split(\"\\n\")[0]) : grq.text.split(\"\\n\")[1:]}) \n",
    "        except:\n",
    "            pass\n",
    "\n",
    "with open(r'..\\Datos\\pickle_database.pickle', 'wb') as handle: # Save mtg Database in .pickle format.\n",
    "    pickle.dump(pickle_database, handle, protocol=pickle.HIGHEST_PROTOCOL) \n",
    "\n",
    "driver.quit()"
   ]
  },
  {
   "cell_type": "code",
   "execution_count": 288,
   "metadata": {},
   "outputs": [
    {
     "name": "stdout",
     "output_type": "stream",
     "text": [
      "'Land', '{T}, Pay 1 life, Sacrifice Prismatic Vista: Search your library for a basic land card, put it onto the battlefield, then shuffle your library.'\n",
      "'Land', '{T}, Pay 1 life, Sacrifice Prismatic Vista: Search your library for a basic land card, put it onto the battlefield, then shuffle your library.'\n",
      "['Land', '{T}, Pay 1 life, Sacrifice Prismatic Vista: Search your library for a basic land card, put it onto the battlefield, then shuffle your library.']\n"
     ]
    }
   ],
   "source": [
    "for x,y in b.items():\n",
    "    if x == \"Prismatic Vista\":\n",
    "        print(y)\n",
    "        # Añadir a mano la descripcion de la carta en caso de que estuviese mal\n",
    "        b[x] = ['Land', '{T}, Pay 1 life, Sacrifice Prismatic Vista: Search your library for a basic land card, put it onto the battlefield, then shuffle your library.']\n",
    "        print(y)\n",
    "print(b[\"Prismatic Vista\"])\n",
    "with open(r'..\\Datos\\pickle_database_copia.pickle', 'wb') as handle: # Save mtg Database in .pickle format.\n",
    "    pickle.dump(b, handle, protocol=pickle.HIGHEST_PROTOCOL) "
   ]
  },
  {
   "cell_type": "code",
   "execution_count": 289,
   "metadata": {},
   "outputs": [],
   "source": [
    "with open(r'..\\Datos\\pickle_database_copia.pickle', 'rb') as handle:\n",
    "    b = pickle.load(handle)"
   ]
  },
  {
   "cell_type": "code",
   "execution_count": 290,
   "metadata": {},
   "outputs": [
    {
     "data": {
      "text/plain": [
       "['Land',\n",
       " '{T}, Pay 1 life, Sacrifice Prismatic Vista: Search your library for a basic land card, put it onto the battlefield, then shuffle your library.']"
      ]
     },
     "execution_count": 290,
     "metadata": {},
     "output_type": "execute_result"
    }
   ],
   "source": [
    "b[\"Prismatic Vista\"]"
   ]
  },
  {
   "cell_type": "code",
   "execution_count": 291,
   "metadata": {},
   "outputs": [],
   "source": [
    "import pandas as pd\n",
    "df = pd.read_excel(\"..\\Datos\\Decklists.xlsx\")"
   ]
  },
  {
   "cell_type": "code",
   "execution_count": 333,
   "metadata": {},
   "outputs": [
    {
     "data": {
      "text/plain": [
       "Index(['Emry,_Lurker_of_the_Loch08012021',\n",
       "       'Leovold,_Emissary_of_Trest08012021',\n",
       "       'Narset,_Enlightened_Master08012021',\n",
       "       'Winota,_Joiner_of_Forces08012021', 'Liesa,_Shroud_of_Dusk08012021',\n",
       "       'Winota,_Joiner_of_Forces13012021', 'Kenrith_Aristocrats_multi150121',\n",
       "       'Kess, Disident Mague18012021'],\n",
       "      dtype='object')"
      ]
     },
     "execution_count": 333,
     "metadata": {},
     "output_type": "execute_result"
    }
   ],
   "source": [
    "df.columns"
   ]
  },
  {
   "cell_type": "code",
   "execution_count": 343,
   "metadata": {},
   "outputs": [],
   "source": [
    "resultados = []\n",
    "for e in df[\"Emry,_Lurker_of_the_Loch08012021\"]:\n",
    "    if e in b:\n",
    "        resultados.append(b[f\"{e}\"])"
   ]
  },
  {
   "cell_type": "code",
   "execution_count": 352,
   "metadata": {},
   "outputs": [
    {
     "name": "stdout",
     "output_type": "stream",
     "text": [
      "Artifact Creature — Construct\n",
      "Creature — Human Artificer\n",
      "Artifact Creature — Myr\n",
      "Creature — Human Wizard\n",
      "Artifact Creature — Horror\n",
      "Legendary Creature — Merfolk Wizard\n",
      "Creature — Human Wizard\n",
      "Creature — Drone\n",
      "Legendary Creature — Human Artificer\n",
      "Artifact Creature — Construct\n",
      "Creature — Human Wizard\n",
      "Creature — Human Wizard\n",
      "Creature — Human Wizard\n",
      "Urza, Lord High Artificer\n",
      "Instant\n",
      "Instant\n",
      "Instant\n",
      "Instant\n",
      "Instant\n",
      "Instant\n",
      "Sorcery\n",
      "Instant\n",
      "Sorcery\n",
      "Instant\n",
      "Sorcery\n",
      "Instant\n",
      "Instant\n",
      "Instant\n",
      "Instant\n",
      "Instant\n",
      "Instant\n",
      "Instant\n",
      "Instant\n",
      "Instant\n",
      "Sorcery\n",
      "Instant\n",
      "Sorcery\n",
      "Instant\n",
      "Instant\n",
      "Instant\n",
      "Instant\n",
      "Sorcery\n",
      "Instant\n",
      "Sorcery\n",
      "Artifact\n",
      "Artifact\n",
      "Artifact\n",
      "Artifact\n",
      "Artifact\n",
      "Artifact\n",
      "Legendary Artifact\n",
      "Artifact\n",
      "Legendary Artifact\n",
      "Artifact\n",
      "Artifact\n",
      "Artifact\n",
      "Artifact\n",
      "Artifact\n",
      "Artifact\n",
      "Artifact\n",
      "Artifact\n",
      "Artifact\n",
      "Artifact\n",
      "Artifact\n",
      "Artifact\n",
      "Artifact\n",
      "Artifact\n",
      "Artifact\n",
      "Artifact\n",
      "Artifact\n",
      "Legendary Artifact\n",
      "{T}: Add {C}.\n",
      "{T}: Add {C}{C}. Ancient Tomb deals 2 damage to you.\n",
      "Blast Zone enters the battlefield with a charge counter on it.\n",
      "As Cavern of Souls enters the battlefield, choose a creature type.\n",
      "{T}: Add {U}. Cephalid Coliseum deals 1 damage to you.\n",
      "Indestructible\n",
      "{T}, Pay 1 life, Sacrifice Flooded Strand: Search your library for a Plains or Island card, put it onto the battlefield, then shuffle your library.\n",
      "At the beginning of your upkeep, if you control three or more artifacts, you gain 1 life.\n",
      "{T}, Pay 1 life, Sacrifice Misty Rainforest: Search your library for a Forest or Island card, put it onto the battlefield, then shuffle your library.\n",
      "({T}: Add {U}.)\n",
      "{T}, Pay 1 life, Sacrifice Polluted Delta: Search your library for an Island or Swamp card, put it onto the battlefield, then shuffle your library.\n",
      "{T}, Pay 1 life, Sacrifice Prismatic Vista: Search your library for a basic land card, put it onto the battlefield, then shuffle your library.\n",
      "{T}: Add {C}.\n",
      "{T}, Pay 1 life, Sacrifice Scalding Tarn: Search your library for an Island or Mountain card, put it onto the battlefield, then shuffle your library.\n",
      "(Seat of the Synod isn’t a spell.)\n",
      "{T}: Add {C}.\n",
      "({T}: Add {U}.)\n",
      "({T}: Add {U}.)\n",
      "({T}: Add {U}.)\n",
      "({T}: Add {U}.)\n",
      "({T}: Add {U}.)\n",
      "({T}: Add {U}.)\n",
      "({T}: Add {U}.)\n",
      "({T}: Add {U}.)\n",
      "({T}: Add {U}.)\n",
      "({T}: Add {U}.)\n"
     ]
    }
   ],
   "source": [
    "for e in resultados:\n",
    "    print(e[1])"
   ]
  },
  {
   "cell_type": "code",
   "execution_count": 344,
   "metadata": {},
   "outputs": [],
   "source": [
    "tierras = [\"Land\", \"Basic\", \"Legendary\", \"Artifact Land\"]\n",
    "resultados_tipo = []\n",
    "for e in resultados:\n",
    "    if e[0].split(\" \")[0] not in tierras:\n",
    "        resultados_tipo.append(e[1])\n",
    "    else:\n",
    "        resultados_tipo.append(e[0])"
   ]
  },
  {
   "cell_type": "code",
   "execution_count": 348,
   "metadata": {},
   "outputs": [],
   "source": [
    "criaturas = 0\n",
    "tierras = 0\n",
    "instantaneos = 0\n",
    "conjuros = 0\n",
    "planeswalker = 0\n",
    "creatures = [\"Creature\", \"Legendary Creature\", \"Artifact Creature\"]\n",
    "lands = [\"Land\", \"Land Creature\", \"Legendary Land\", \"Basic Snow Land\", \"Basic Land\", \"Artifact Land\"]\n",
    "\n",
    "for e in resultados_tipo:\n",
    "    if e.split(\"—\")[0].strip() in creatures:\n",
    "        criaturas += 1\n",
    "    elif e.split(\"—\")[0].strip() in lands:\n",
    "        tierras += 1\n",
    "    elif e.split(\"—\")[0].strip() == \"Legendary Planeswalker\":\n",
    "        planeswalker += 1\n",
    "    elif e.split(\"—\")[0].strip() == \"Instant\":\n",
    "        instantaneos += 1\n",
    "    elif e.split(\"—\")[0].strip() == \"Sorcery\":\n",
    "        conjuros += 1"
   ]
  },
  {
   "cell_type": "code",
   "execution_count": 349,
   "metadata": {},
   "outputs": [
    {
     "name": "stdout",
     "output_type": "stream",
     "text": [
      "Resumen:  \n",
      "Criaturas: 13\n",
      "Tierras: 24\n",
      "Instantaneos: 23\n",
      "Conjuros: 7\n",
      "Planeswalker: 0\n",
      "\n"
     ]
    }
   ],
   "source": [
    "print(\"Resumen:  \" + \"\\n\" +\n",
    "       f\"Criaturas: {criaturas}\" + \"\\n\" +\n",
    "       f\"Tierras: {tierras}\" + \"\\n\" +\n",
    "       f\"Instantaneos: {instantaneos}\" + \"\\n\" +\n",
    "       f\"Conjuros: {conjuros}\" + \"\\n\" +\n",
    "       f\"Planeswalker: {planeswalker}\" + \"\\n\")"
   ]
  },
  {
   "cell_type": "code",
   "execution_count": 323,
   "metadata": {},
   "outputs": [
    {
     "data": {
      "text/plain": [
       "22"
      ]
     },
     "execution_count": 323,
     "metadata": {},
     "output_type": "execute_result"
    }
   ],
   "source": [
    "len(\"Legendary Planeswalker\")"
   ]
  },
  {
   "cell_type": "code",
   "execution_count": null,
   "metadata": {},
   "outputs": [],
   "source": []
  },
  {
   "cell_type": "code",
   "execution_count": 213,
   "metadata": {},
   "outputs": [],
   "source": [
    "resultados = [item for sublist in resultados for item in sublist]"
   ]
  },
  {
   "cell_type": "code",
   "execution_count": 216,
   "metadata": {},
   "outputs": [
    {
     "data": {
      "text/plain": [
       "'{G}'"
      ]
     },
     "execution_count": 216,
     "metadata": {},
     "output_type": "execute_result"
    }
   ],
   "source": [
    "resultados[0]"
   ]
  },
  {
   "cell_type": "code",
   "execution_count": null,
   "metadata": {},
   "outputs": [],
   "source": [
    "['Land', '{T}, Pay 1 life, Sacrifice Verdant Catacombs: Search your library for a Swamp or Forest card, put it onto the battlefield, then shuffle your library.']\n",
    "['Land', '{T}, Pay 1 life, Sacrifice Prismatic Vista: Search your library for a basic land card, put it onto the battlefield, then shuffle your library.']"
   ]
  }
 ],
 "metadata": {
  "kernelspec": {
   "display_name": "Python 3",
   "language": "python",
   "name": "python3"
  },
  "language_info": {
   "codemirror_mode": {
    "name": "ipython",
    "version": 3
   },
   "file_extension": ".py",
   "mimetype": "text/x-python",
   "name": "python",
   "nbconvert_exporter": "python",
   "pygments_lexer": "ipython3",
   "version": "3.8.7"
  }
 },
 "nbformat": 4,
 "nbformat_minor": 4
}
