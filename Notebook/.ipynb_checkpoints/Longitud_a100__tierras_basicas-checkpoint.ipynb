{
 "cells": [
  {
   "cell_type": "code",
   "execution_count": 299,
   "metadata": {},
   "outputs": [],
   "source": [
    "import os\n",
    "import pandas as pd"
   ]
  },
  {
   "cell_type": "code",
   "execution_count": 300,
   "metadata": {},
   "outputs": [
    {
     "data": {
      "text/plain": [
       "['Emry, Lurker of the Loch.txt',\n",
       " 'Leovold, Emissary of Trest.txt',\n",
       " 'Narset, Enlightened Master.txt',\n",
       " 'Winota, Joiner of Forces.txt']"
      ]
     },
     "execution_count": 300,
     "metadata": {},
     "output_type": "execute_result"
    }
   ],
   "source": [
    "ruta = r\"C:\\Users\\dfernandez\\Documents\\Proyectos_Python\\Commander\\Datos\\PlainText_Decklists\"\n",
    "lista = os.listdir(ruta)\n",
    "lista"
   ]
  },
  {
   "cell_type": "code",
   "execution_count": 310,
   "metadata": {},
   "outputs": [],
   "source": [
    "f = open(ruta + f\"\\{lista[0]}\",\"r+\")\n",
    "text = f.read()\n",
    "text = text.splitlines()"
   ]
  },
  {
   "cell_type": "code",
   "execution_count": 311,
   "metadata": {},
   "outputs": [],
   "source": [
    "import os\n",
    "opcion = 0\n",
    "PlainText_Decklists = r\"..\\Datos\\PlainText_Decklists\"\n",
    "lista = os.listdir(PlainText_Decklists)\n",
    "f = open(PlainText_Decklists + f\"\\{lista[opcion]}\",\"r+\")\n",
    "text = f.read()\n",
    "text = text.splitlines()\n",
    "\n",
    "for e in range(len(text)):\n",
    "    text[e] = text[e].rstrip()\n",
    "    if text[e][0] != \"1\":\n",
    "        contador = 0\n",
    "        while contador < int(text[e][0]):\n",
    "            print(\"yes\")\n",
    "            text.append(f\"1 {text[e][2:]}\")\n",
    "            contador += 1\n",
    "        text.remove(text[e])"
   ]
  },
  {
   "cell_type": "code",
   "execution_count": 312,
   "metadata": {},
   "outputs": [
    {
     "data": {
      "text/plain": [
       "['1 Walking Ballista',\n",
       " '1 Aether Chaser',\n",
       " '1 Myr Retriever',\n",
       " '1 Snapcaster Mage',\n",
       " '1 Spellskite',\n",
       " '1 Emry, Lurker of the Loch',\n",
       " '1 Laboratory Maniac',\n",
       " '1 Mirran Spy',\n",
       " '1 Sai, Master Thopterist',\n",
       " '1 Scrap Trawler',\n",
       " '1 Spellseeker',\n",
       " '1 Trinket Mage',\n",
       " '1 Trophy Mage',\n",
       " '1 Urza, Lord High Artificer',\n",
       " '1 Pact of Negation',\n",
       " '1 Brainstorm',\n",
       " '1 Dispel',\n",
       " '1 Force Spike',\n",
       " '1 Mental Misstep',\n",
       " '1 Mystical Tutor',\n",
       " '1 Ponder',\n",
       " '1 Pongify',\n",
       " '1 Preordain',\n",
       " '1 Rapid Hybridization',\n",
       " '1 Serum Visions',\n",
       " '1 Spell Pierce',\n",
       " '1 Swan Song',\n",
       " '1 Arcane Denial',\n",
       " '1 Counterspell',\n",
       " '1 Cyclonic Rift',\n",
       " '1 Daze',\n",
       " '1 Delay',\n",
       " '1 Logic Knot',\n",
       " '1 Memory Lapse',\n",
       " '1 Merchant Scroll',\n",
       " '1 Muddle the Mixture',\n",
       " '1 Negate',\n",
       " '1 Fabricate',\n",
       " '1 Fierce Guardianship',\n",
       " '1 Whir of Invention',\n",
       " \"1 Wizard's Retort\",\n",
       " '1 Force of Will',\n",
       " '1 Sea Gate Restoration',\n",
       " '1 Dig Through Time',\n",
       " '1 Treasure Cruise',\n",
       " '1 Chrome Mox',\n",
       " '1 Everflowing Chalice',\n",
       " '1 Lodestone Bauble',\n",
       " '1 Lotus Petal',\n",
       " '1 Mana Crypt',\n",
       " \"1 Mishra's Bauble\",\n",
       " '1 Mox Amber',\n",
       " '1 Mox Diamond',\n",
       " '1 Mox Opal',\n",
       " \"1 Tormod's Crypt\",\n",
       " \"1 Urza's Bauble\",\n",
       " '1 Welding Jar',\n",
       " '1 Aether Spellbomb',\n",
       " '1 Chromatic Sphere',\n",
       " '1 Chromatic Star',\n",
       " \"1 Conjurer's Bauble\",\n",
       " '1 Expedition Map',\n",
       " '1 Mana Vault',\n",
       " '1 Manifold Key',\n",
       " '1 Sol Ring',\n",
       " '1 Voltaic Key',\n",
       " '1 Arcane Signet',\n",
       " '1 Grim Monolith',\n",
       " '1 Mind Stone',\n",
       " \"1 Commander's Sphere\",\n",
       " '1 Krark-Clan Ironworks',\n",
       " '1 Paradox Engine',\n",
       " '1 Academy Ruins',\n",
       " '1 Ancient Tomb',\n",
       " '1 Blast Zone',\n",
       " '1 Cavern of Souls',\n",
       " '1 Cephalid Coliseum',\n",
       " '1 Darksteel Citadel',\n",
       " '1 Flooded Strand',\n",
       " \"1 Inventors' Fair\",\n",
       " \"1 Minamo, School at Water's Edge\",\n",
       " '1 Misty Rainforest',\n",
       " '1 Mystic Sanctuary',\n",
       " '1 Polluted Delta',\n",
       " '1 Prismatic Vista',\n",
       " '1 Riptide Laboratory',\n",
       " '1 Scalding Tarn',\n",
       " '1 Seat of the Synod',\n",
       " '1 Tectonic Edge',\n",
       " '1 Wasteland',\n",
       " '1 Island',\n",
       " '1 Island',\n",
       " '1 Island',\n",
       " '1 Island',\n",
       " '1 Island',\n",
       " '1 Snow-Covered Island',\n",
       " '1 Snow-Covered Island',\n",
       " '1 Snow-Covered Island',\n",
       " '1 Snow-Covered Island',\n",
       " '1 Snow-Covered Island']"
      ]
     },
     "execution_count": 312,
     "metadata": {},
     "output_type": "execute_result"
    }
   ],
   "source": [
    "text"
   ]
  },
  {
   "cell_type": "code",
   "execution_count": 313,
   "metadata": {},
   "outputs": [
    {
     "data": {
      "text/plain": [
       "100"
      ]
     },
     "execution_count": 313,
     "metadata": {},
     "output_type": "execute_result"
    }
   ],
   "source": [
    "len(text)"
   ]
  },
  {
   "cell_type": "code",
   "execution_count": 296,
   "metadata": {},
   "outputs": [],
   "source": []
  },
  {
   "cell_type": "code",
   "execution_count": 297,
   "metadata": {},
   "outputs": [
    {
     "data": {
      "text/plain": [
       "['1 Walking Ballista',\n",
       " '1 Aether Chaser',\n",
       " '1 Myr Retriever',\n",
       " '1 Snapcaster Mage',\n",
       " '1 Spellskite',\n",
       " '1 Emry, Lurker of the Loch',\n",
       " '1 Laboratory Maniac',\n",
       " '1 Mirran Spy',\n",
       " '1 Sai, Master Thopterist',\n",
       " '1 Scrap Trawler',\n",
       " '1 Spellseeker',\n",
       " '1 Trinket Mage',\n",
       " '1 Trophy Mage',\n",
       " '1 Urza, Lord High Artificer',\n",
       " '1 Pact of Negation',\n",
       " '1 Brainstorm',\n",
       " '1 Dispel',\n",
       " '1 Force Spike',\n",
       " '1 Mental Misstep',\n",
       " '1 Mystical Tutor',\n",
       " '1 Ponder',\n",
       " '1 Pongify',\n",
       " '1 Preordain',\n",
       " '1 Rapid Hybridization',\n",
       " '1 Serum Visions',\n",
       " '1 Spell Pierce',\n",
       " '1 Swan Song',\n",
       " '1 Arcane Denial',\n",
       " '1 Counterspell',\n",
       " '1 Cyclonic Rift',\n",
       " '1 Daze',\n",
       " '1 Delay',\n",
       " '1 Logic Knot',\n",
       " '1 Memory Lapse',\n",
       " '1 Merchant Scroll',\n",
       " '1 Muddle the Mixture',\n",
       " '1 Negate',\n",
       " '1 Fabricate',\n",
       " '1 Fierce Guardianship',\n",
       " '1 Whir of Invention',\n",
       " \"1 Wizard's Retort\",\n",
       " '1 Force of Will',\n",
       " '1 Sea Gate Restoration',\n",
       " '1 Dig Through Time',\n",
       " '1 Treasure Cruise',\n",
       " '1 Chrome Mox',\n",
       " '1 Everflowing Chalice',\n",
       " '1 Lodestone Bauble',\n",
       " '1 Lotus Petal',\n",
       " '1 Mana Crypt',\n",
       " \"1 Mishra's Bauble\",\n",
       " '1 Mox Amber',\n",
       " '1 Mox Diamond',\n",
       " '1 Mox Opal',\n",
       " \"1 Tormod's Crypt\",\n",
       " \"1 Urza's Bauble\",\n",
       " '1 Welding Jar',\n",
       " '1 Aether Spellbomb',\n",
       " '1 Chromatic Sphere',\n",
       " '1 Chromatic Star',\n",
       " \"1 Conjurer's Bauble\",\n",
       " '1 Expedition Map',\n",
       " '1 Mana Vault',\n",
       " '1 Manifold Key',\n",
       " '1 Sol Ring',\n",
       " '1 Voltaic Key',\n",
       " '1 Arcane Signet',\n",
       " '1 Grim Monolith',\n",
       " '1 Mind Stone',\n",
       " \"1 Commander's Sphere\",\n",
       " '1 Krark-Clan Ironworks',\n",
       " '1 Paradox Engine',\n",
       " '1 Academy Ruins',\n",
       " '1 Ancient Tomb',\n",
       " '1 Blast Zone',\n",
       " '1 Cavern of Souls',\n",
       " '1 Cephalid Coliseum',\n",
       " '1 Darksteel Citadel',\n",
       " '1 Flooded Strand',\n",
       " \"1 Inventors' Fair\",\n",
       " \"1 Minamo, School at Water's Edge\",\n",
       " '1 Misty Rainforest',\n",
       " '1 Mystic Sanctuary',\n",
       " '1 Polluted Delta',\n",
       " '1 Prismatic Vista',\n",
       " '1 Riptide Laboratory',\n",
       " '1 Scalding Tarn',\n",
       " '1 Seat of the Synod',\n",
       " '1 Tectonic Edge',\n",
       " '1 Wasteland',\n",
       " '1 Island',\n",
       " '1 Island',\n",
       " '1 Island',\n",
       " '1 Island',\n",
       " '1 Island',\n",
       " '1 Snow-Covered Island',\n",
       " '1 Snow-Covered Island',\n",
       " '1 Snow-Covered Island',\n",
       " '1 Snow-Covered Island',\n",
       " '1 Snow-Covered Island']"
      ]
     },
     "execution_count": 297,
     "metadata": {},
     "output_type": "execute_result"
    }
   ],
   "source": [
    "text"
   ]
  },
  {
   "cell_type": "code",
   "execution_count": 298,
   "metadata": {},
   "outputs": [
    {
     "data": {
      "text/plain": [
       "100"
      ]
     },
     "execution_count": 298,
     "metadata": {},
     "output_type": "execute_result"
    }
   ],
   "source": [
    "len(text)"
   ]
  },
  {
   "cell_type": "code",
   "execution_count": null,
   "metadata": {},
   "outputs": [],
   "source": []
  },
  {
   "cell_type": "code",
   "execution_count": null,
   "metadata": {},
   "outputs": [],
   "source": []
  },
  {
   "cell_type": "code",
   "execution_count": null,
   "metadata": {},
   "outputs": [],
   "source": []
  },
  {
   "cell_type": "code",
   "execution_count": null,
   "metadata": {},
   "outputs": [],
   "source": [
    "# text_dict[e] = {text[e].split(\" \", 1)[0] : text[e].split(\" \", 1)[1]} Como crear el diccionario desde la lista"
   ]
  }
 ],
 "metadata": {
  "kernelspec": {
   "display_name": "Python 3",
   "language": "python",
   "name": "python3"
  },
  "language_info": {
   "codemirror_mode": {
    "name": "ipython",
    "version": 3
   },
   "file_extension": ".py",
   "mimetype": "text/x-python",
   "name": "python",
   "nbconvert_exporter": "python",
   "pygments_lexer": "ipython3",
   "version": "3.8.6"
  }
 },
 "nbformat": 4,
 "nbformat_minor": 4
}
