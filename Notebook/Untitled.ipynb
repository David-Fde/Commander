{
 "cells": [
  {
   "cell_type": "code",
   "execution_count": 19,
   "metadata": {},
   "outputs": [],
   "source": [
    "import pandas as pd\n",
    "Datos = r\"..\\Datos\""
   ]
  },
  {
   "cell_type": "code",
   "execution_count": 24,
   "metadata": {},
   "outputs": [],
   "source": [
    " #column = [str(input(\"Nombre del Comandante: \"))]\n",
    "Excel_Decklists = f\"{Datos}\\Decklists.xlsx\"\n",
    "df = pd.read_excel(Excel_Decklists)"
   ]
  },
  {
   "cell_type": "code",
   "execution_count": 25,
   "metadata": {},
   "outputs": [
    {
     "data": {
      "text/html": [
       "<div>\n",
       "<style scoped>\n",
       "    .dataframe tbody tr th:only-of-type {\n",
       "        vertical-align: middle;\n",
       "    }\n",
       "\n",
       "    .dataframe tbody tr th {\n",
       "        vertical-align: top;\n",
       "    }\n",
       "\n",
       "    .dataframe thead th {\n",
       "        text-align: right;\n",
       "    }\n",
       "</style>\n",
       "<table border=\"1\" class=\"dataframe\">\n",
       "  <thead>\n",
       "    <tr style=\"text-align: right;\">\n",
       "      <th></th>\n",
       "      <th>0</th>\n",
       "      <th>lista[0].split('.')[0]</th>\n",
       "    </tr>\n",
       "  </thead>\n",
       "  <tbody>\n",
       "    <tr>\n",
       "      <th>0</th>\n",
       "      <td>Winota, Joiner of Forces</td>\n",
       "      <td>1 Walking Ballista</td>\n",
       "    </tr>\n",
       "    <tr>\n",
       "      <th>1</th>\n",
       "      <td>Sram, Senior Edificer</td>\n",
       "      <td>1 Aether Chaser</td>\n",
       "    </tr>\n",
       "    <tr>\n",
       "      <th>2</th>\n",
       "      <td>Avalanche Riders</td>\n",
       "      <td>1 Myr Retriever</td>\n",
       "    </tr>\n",
       "    <tr>\n",
       "      <th>3</th>\n",
       "      <td>Silverblade Paladin</td>\n",
       "      <td>1 Snapcaster Mage</td>\n",
       "    </tr>\n",
       "    <tr>\n",
       "      <th>4</th>\n",
       "      <td>Oust</td>\n",
       "      <td>1 Spellskite</td>\n",
       "    </tr>\n",
       "    <tr>\n",
       "      <th>...</th>\n",
       "      <td>...</td>\n",
       "      <td>...</td>\n",
       "    </tr>\n",
       "    <tr>\n",
       "      <th>95</th>\n",
       "      <td>Great Furnace</td>\n",
       "      <td>1 Snow-Covered Island</td>\n",
       "    </tr>\n",
       "    <tr>\n",
       "      <th>96</th>\n",
       "      <td>Inspiring Vantage</td>\n",
       "      <td>1 Snow-Covered Island</td>\n",
       "    </tr>\n",
       "    <tr>\n",
       "      <th>97</th>\n",
       "      <td>Marsh Flats</td>\n",
       "      <td>1 Snow-Covered Island</td>\n",
       "    </tr>\n",
       "    <tr>\n",
       "      <th>98</th>\n",
       "      <td>Needleverge Pathway // Pillarverge Pathway</td>\n",
       "      <td>1 Snow-Covered Island</td>\n",
       "    </tr>\n",
       "    <tr>\n",
       "      <th>99</th>\n",
       "      <td>Wooded Foothills</td>\n",
       "      <td>1 Snow-Covered Island</td>\n",
       "    </tr>\n",
       "  </tbody>\n",
       "</table>\n",
       "<p>100 rows × 2 columns</p>\n",
       "</div>"
      ],
      "text/plain": [
       "                                             0 lista[0].split('.')[0]\n",
       "0                     Winota, Joiner of Forces     1 Walking Ballista\n",
       "1                        Sram, Senior Edificer        1 Aether Chaser\n",
       "2                             Avalanche Riders        1 Myr Retriever\n",
       "3                          Silverblade Paladin      1 Snapcaster Mage\n",
       "4                                         Oust           1 Spellskite\n",
       "..                                         ...                    ...\n",
       "95                               Great Furnace  1 Snow-Covered Island\n",
       "96                           Inspiring Vantage  1 Snow-Covered Island\n",
       "97                                 Marsh Flats  1 Snow-Covered Island\n",
       "98  Needleverge Pathway // Pillarverge Pathway  1 Snow-Covered Island\n",
       "99                            Wooded Foothills  1 Snow-Covered Island\n",
       "\n",
       "[100 rows x 2 columns]"
      ]
     },
     "execution_count": 25,
     "metadata": {},
     "output_type": "execute_result"
    }
   ],
   "source": [
    "df"
   ]
  },
  {
   "cell_type": "code",
   "execution_count": null,
   "metadata": {},
   "outputs": [],
   "source": []
  }
 ],
 "metadata": {
  "kernelspec": {
   "display_name": "Python 3",
   "language": "python",
   "name": "python3"
  },
  "language_info": {
   "codemirror_mode": {
    "name": "ipython",
    "version": 3
   },
   "file_extension": ".py",
   "mimetype": "text/x-python",
   "name": "python",
   "nbconvert_exporter": "python",
   "pygments_lexer": "ipython3",
   "version": "3.8.6"
  }
 },
 "nbformat": 4,
 "nbformat_minor": 4
}
