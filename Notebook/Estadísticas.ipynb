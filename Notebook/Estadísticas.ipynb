{
 "cells": [
  {
   "cell_type": "code",
   "execution_count": 1,
   "metadata": {},
   "outputs": [],
   "source": [
    "import requests"
   ]
  },
  {
   "cell_type": "code",
   "execution_count": 2,
   "metadata": {},
   "outputs": [],
   "source": [
    "url = \"https://api.scryfall.com/cards/named?fuzzy=Birthing+Pod\""
   ]
  },
  {
   "cell_type": "code",
   "execution_count": 4,
   "metadata": {},
   "outputs": [],
   "source": [
    "r = requests.get(url).json()"
   ]
  },
  {
   "cell_type": "code",
   "execution_count": 5,
   "metadata": {},
   "outputs": [
    {
     "data": {
      "text/plain": [
       "{'object': 'card',\n",
       " 'id': 'b768efa2-e56b-4a7e-ace8-d673f10e0714',\n",
       " 'oracle_id': 'f8b9dd54-0837-47f4-ad14-7a0322d46d5f',\n",
       " 'multiverse_ids': [218006],\n",
       " 'mtgo_id': 39796,\n",
       " 'mtgo_foil_id': 39797,\n",
       " 'tcgplayer_id': 39429,\n",
       " 'cardmarket_id': 245930,\n",
       " 'name': 'Birthing Pod',\n",
       " 'lang': 'en',\n",
       " 'released_at': '2011-05-13',\n",
       " 'uri': 'https://api.scryfall.com/cards/b768efa2-e56b-4a7e-ace8-d673f10e0714',\n",
       " 'scryfall_uri': 'https://scryfall.com/card/nph/104/birthing-pod?utm_source=api',\n",
       " 'layout': 'normal',\n",
       " 'highres_image': True,\n",
       " 'image_status': 'highres_scan',\n",
       " 'image_uris': {'small': 'https://c1.scryfall.com/file/scryfall-cards/small/front/b/7/b768efa2-e56b-4a7e-ace8-d673f10e0714.jpg?1562880960',\n",
       "  'normal': 'https://c1.scryfall.com/file/scryfall-cards/normal/front/b/7/b768efa2-e56b-4a7e-ace8-d673f10e0714.jpg?1562880960',\n",
       "  'large': 'https://c1.scryfall.com/file/scryfall-cards/large/front/b/7/b768efa2-e56b-4a7e-ace8-d673f10e0714.jpg?1562880960',\n",
       "  'png': 'https://c1.scryfall.com/file/scryfall-cards/png/front/b/7/b768efa2-e56b-4a7e-ace8-d673f10e0714.png?1562880960',\n",
       "  'art_crop': 'https://c1.scryfall.com/file/scryfall-cards/art_crop/front/b/7/b768efa2-e56b-4a7e-ace8-d673f10e0714.jpg?1562880960',\n",
       "  'border_crop': 'https://c1.scryfall.com/file/scryfall-cards/border_crop/front/b/7/b768efa2-e56b-4a7e-ace8-d673f10e0714.jpg?1562880960'},\n",
       " 'mana_cost': '{3}{G/P}',\n",
       " 'cmc': 4.0,\n",
       " 'type_line': 'Artifact',\n",
       " 'oracle_text': \"({G/P} can be paid with either {G} or 2 life.)\\n{1}{G/P}, {T}, Sacrifice a creature: Search your library for a creature card with mana value equal to 1 plus the sacrificed creature's mana value, put that card onto the battlefield, then shuffle. Activate only as a sorcery.\",\n",
       " 'colors': ['G'],\n",
       " 'color_identity': ['G'],\n",
       " 'keywords': [],\n",
       " 'legalities': {'standard': 'not_legal',\n",
       "  'future': 'not_legal',\n",
       "  'historic': 'not_legal',\n",
       "  'gladiator': 'not_legal',\n",
       "  'pioneer': 'not_legal',\n",
       "  'modern': 'banned',\n",
       "  'legacy': 'legal',\n",
       "  'pauper': 'not_legal',\n",
       "  'vintage': 'legal',\n",
       "  'penny': 'not_legal',\n",
       "  'commander': 'legal',\n",
       "  'brawl': 'not_legal',\n",
       "  'duel': 'legal',\n",
       "  'oldschool': 'not_legal',\n",
       "  'premodern': 'not_legal'},\n",
       " 'games': ['paper', 'mtgo'],\n",
       " 'reserved': False,\n",
       " 'foil': True,\n",
       " 'nonfoil': True,\n",
       " 'oversized': False,\n",
       " 'promo': False,\n",
       " 'reprint': False,\n",
       " 'variation': False,\n",
       " 'set_id': 'e8e356d8-6d01-4dab-aa07-d0999dc9359f',\n",
       " 'set': 'nph',\n",
       " 'set_name': 'New Phyrexia',\n",
       " 'set_type': 'expansion',\n",
       " 'set_uri': 'https://api.scryfall.com/sets/e8e356d8-6d01-4dab-aa07-d0999dc9359f',\n",
       " 'set_search_uri': 'https://api.scryfall.com/cards/search?order=set&q=e%3Anph&unique=prints',\n",
       " 'scryfall_set_uri': 'https://scryfall.com/sets/nph?utm_source=api',\n",
       " 'rulings_uri': 'https://api.scryfall.com/cards/b768efa2-e56b-4a7e-ace8-d673f10e0714/rulings',\n",
       " 'prints_search_uri': 'https://api.scryfall.com/cards/search?order=released&q=oracleid%3Af8b9dd54-0837-47f4-ad14-7a0322d46d5f&unique=prints',\n",
       " 'collector_number': '104',\n",
       " 'digital': False,\n",
       " 'rarity': 'rare',\n",
       " 'watermark': 'phyrexian',\n",
       " 'card_back_id': '0aeebaf5-8c7d-4636-9e82-8c27447861f7',\n",
       " 'artist': 'Daarken',\n",
       " 'artist_ids': ['e607a0d4-fc12-4c01-9e3f-501f5269b9cb'],\n",
       " 'illustration_id': '0070d5e4-5926-4811-ac5e-dca06790f046',\n",
       " 'border_color': 'black',\n",
       " 'frame': '2003',\n",
       " 'full_art': False,\n",
       " 'textless': False,\n",
       " 'booster': True,\n",
       " 'story_spotlight': False,\n",
       " 'edhrec_rank': 747,\n",
       " 'prices': {'usd': '16.17',\n",
       "  'usd_foil': '40.89',\n",
       "  'eur': '9.06',\n",
       "  'eur_foil': '24.00',\n",
       "  'tix': '0.49'},\n",
       " 'related_uris': {'gatherer': 'https://gatherer.wizards.com/Pages/Card/Details.aspx?multiverseid=218006',\n",
       "  'tcgplayer_infinite_articles': 'https://infinite.tcgplayer.com/search?contentMode=article&game=magic&partner=scryfall&q=Birthing+Pod&utm_campaign=affiliate&utm_medium=api&utm_source=scryfall',\n",
       "  'tcgplayer_infinite_decks': 'https://infinite.tcgplayer.com/search?contentMode=deck&game=magic&partner=scryfall&q=Birthing+Pod&utm_campaign=affiliate&utm_medium=api&utm_source=scryfall',\n",
       "  'edhrec': 'https://edhrec.com/route/?cc=Birthing+Pod',\n",
       "  'mtgtop8': 'https://mtgtop8.com/search?MD_check=1&SB_check=1&cards=Birthing+Pod'},\n",
       " 'purchase_uris': {'tcgplayer': 'https://shop.tcgplayer.com/product/productsearch?id=39429&utm_campaign=affiliate&utm_medium=api&utm_source=scryfall',\n",
       "  'cardmarket': 'https://www.cardmarket.com/en/Magic/Products/Search?referrer=scryfall&searchString=Birthing+Pod&utm_campaign=card_prices&utm_medium=text&utm_source=scryfall',\n",
       "  'cardhoarder': 'https://www.cardhoarder.com/cards/39796?affiliate_id=scryfall&ref=card-profile&utm_campaign=affiliate&utm_medium=card&utm_source=scryfall'}}"
      ]
     },
     "execution_count": 5,
     "metadata": {},
     "output_type": "execute_result"
    }
   ],
   "source": [
    "r"
   ]
  },
  {
   "cell_type": "code",
   "execution_count": null,
   "metadata": {},
   "outputs": [],
   "source": []
  }
 ],
 "metadata": {
  "kernelspec": {
   "display_name": "Python 3",
   "language": "python",
   "name": "python3"
  },
  "language_info": {
   "codemirror_mode": {
    "name": "ipython",
    "version": 3
   },
   "file_extension": ".py",
   "mimetype": "text/x-python",
   "name": "python",
   "nbconvert_exporter": "python",
   "pygments_lexer": "ipython3",
   "version": "3.8.6"
  }
 },
 "nbformat": 4,
 "nbformat_minor": 4
}
