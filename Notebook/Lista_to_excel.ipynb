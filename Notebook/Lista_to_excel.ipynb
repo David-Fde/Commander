{
 "cells": [
  {
   "cell_type": "code",
   "execution_count": 1,
   "metadata": {},
   "outputs": [],
   "source": [
    "import pandas as pd\n",
    "\n",
    "def read_convert_plain_text(texto, nombre,url_destino):\n",
    "    df = pd.DataFrame()\n",
    "    f = open(url,\"r+\")\n",
    "    text = f.read()\n",
    "    text = text.split('\\n')\n",
    "    df[f'{name}'] = text\n",
    "    df.to_excel(url_destino, index=False)\n",
    "    return "
   ]
  },
  {
   "cell_type": "code",
   "execution_count": 3,
   "metadata": {
    "scrolled": true
   },
   "outputs": [
    {
     "name": "stdout",
     "output_type": "stream",
     "text": [
      "Nombre de coleccion: Champions_OF_Kamiwaga\n"
     ]
    }
   ],
   "source": [
    "url = 'coleccion.txt'\n",
    "name = input('Nombre de coleccion: ')\n",
    "filename = 'Excel_Colecciones\\{}.xlsx'.format(name)\n",
    "read_convert_plain_text(url,name,filename)"
   ]
  },
  {
   "cell_type": "code",
   "execution_count": null,
   "metadata": {},
   "outputs": [],
   "source": [
    "https://tugbucket.net/tests/salvation/mtg_sets/ \n",
    "https://www.mtgpics.com/sets_chrono?page_nb=7"
   ]
  },
  {
   "cell_type": "code",
   "execution_count": null,
   "metadata": {},
   "outputs": [],
   "source": []
  },
  {
   "cell_type": "code",
   "execution_count": null,
   "metadata": {},
   "outputs": [],
   "source": []
  },
  {
   "cell_type": "code",
   "execution_count": 3,
   "metadata": {},
   "outputs": [
    {
     "name": "stdout",
     "output_type": "stream",
     "text": [
      "Nombre de coleccion: Prueba\n"
     ]
    }
   ],
   "source": [
    "import pandas as pd\n",
    "\n",
    "# https://tugbucket.net/tests/salvation/mtg_sets/ Pagina para descargar las colecciones en texto plano.\n",
    "\n",
    "def PlainTextToExcel():\n",
    "    name = input('Nombre de coleccion: ')\n",
    "    url = r\"..\\Datos\\Plain_text_new_set.txt\"\n",
    "    url_destino = r\"..\\Colecciones\"\n",
    "    df = pd.DataFrame()\n",
    "    f = open(url,\"r+\")\n",
    "    text = f.read()\n",
    "    text = text.split('\\n')\n",
    "    df[f'{name}'] = text\n",
    "    df.to_excel(f\"{url_destino}\\{name}.xlsx\", index=False)\n",
    "    return\n",
    "\n",
    "PlainTextToExcel()"
   ]
  },
  {
   "cell_type": "code",
   "execution_count": null,
   "metadata": {},
   "outputs": [],
   "source": []
  }
 ],
 "metadata": {
  "kernelspec": {
   "display_name": "Python 3",
   "language": "python",
   "name": "python3"
  },
  "language_info": {
   "codemirror_mode": {
    "name": "ipython",
    "version": 3
   },
   "file_extension": ".py",
   "mimetype": "text/x-python",
   "name": "python",
   "nbconvert_exporter": "python",
   "pygments_lexer": "ipython3",
   "version": "3.8.6"
  }
 },
 "nbformat": 4,
 "nbformat_minor": 4
}
