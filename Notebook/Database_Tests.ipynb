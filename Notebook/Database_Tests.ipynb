{
 "cells": [
  {
   "cell_type": "code",
   "execution_count": 77,
   "metadata": {},
   "outputs": [],
   "source": [
    "import pickle\n",
    "import pandas as pd\n",
    "\n",
    "with open(r'..\\Datos\\Mtg_Database.pickle', 'rb') as handle:\n",
    "    b = pickle.load(handle)\n",
    "\n",
    "df = pd.read_excel(\"..\\Datos\\Decklists.xlsx\")"
   ]
  },
  {
   "cell_type": "code",
   "execution_count": 78,
   "metadata": {},
   "outputs": [
    {
     "data": {
      "text/plain": [
       "Index(['Emry,_Lurker_of_the_Loch08012021',\n",
       "       'Leovold,_Emissary_of_Trest08012021',\n",
       "       'Narset,_Enlightened_Master08012021',\n",
       "       'Winota,_Joiner_of_Forces08012021', 'Liesa,_Shroud_of_Dusk08012021',\n",
       "       'Winota,_Joiner_of_Forces13012021', 'Kenrith_Aristocrats_multi150121',\n",
       "       'Kess, Disident Mague18012021'],\n",
       "      dtype='object')"
      ]
     },
     "execution_count": 78,
     "metadata": {},
     "output_type": "execute_result"
    }
   ],
   "source": [
    "df.columns"
   ]
  },
  {
   "cell_type": "code",
   "execution_count": 89,
   "metadata": {},
   "outputs": [],
   "source": [
    "df2 = df[\"Leovold,_Emissary_of_Trest08012021\"]"
   ]
  },
  {
   "cell_type": "code",
   "execution_count": 90,
   "metadata": {},
   "outputs": [],
   "source": [
    "resultados = []\n",
    "for e in df2:\n",
    "    if e.strip() in b.keys():\n",
    "        resultados.append(b[e.strip()])\n",
    "    else:\n",
    "        print(e)"
   ]
  },
  {
   "cell_type": "code",
   "execution_count": 91,
   "metadata": {},
   "outputs": [
    {
     "data": {
      "text/plain": [
       "100"
      ]
     },
     "execution_count": 91,
     "metadata": {},
     "output_type": "execute_result"
    }
   ],
   "source": [
    "len(resultados)"
   ]
  },
  {
   "cell_type": "code",
   "execution_count": 92,
   "metadata": {},
   "outputs": [
    {
     "data": {
      "text/plain": [
       "[\"'Legendary Land\",\n",
       " \" '{T}: Add {U}.\",\n",
       " \" '{U}, {T}: Untap target legendary permanent.'\"]"
      ]
     },
     "execution_count": 92,
     "metadata": {},
     "output_type": "execute_result"
    }
   ],
   "source": [
    "b[\"Minamo, School at Water's Edge\"]"
   ]
  },
  {
   "cell_type": "code",
   "execution_count": 93,
   "metadata": {},
   "outputs": [
    {
     "name": "stdout",
     "output_type": "stream",
     "text": [
      "Creature — Bird\n",
      "Creature — Elf Shaman\n",
      "Creature — Elf Druid\n",
      "Creature — Elf Druid\n",
      "Creature — Elf Druid\n",
      "Creature — Elf Druid\n",
      "Creature — Human Wizard\n",
      "Artifact Creature — Bird\n",
      "Creature — Elf Druid\n",
      "Creature — Human Wizard\n",
      "Creature — Human Shaman\n",
      "Creature — Merfolk Pirate\n",
      "Legendary Creature — Elf Advisor\n",
      "Creature — Human Rogue\n",
      "Creature — Human Wizard\n",
      "Legendary Creature — Faerie Wizard\n",
      "Creature — Human Rogue\n",
      "Legendary Creature — Human Wizard\n",
      "Creature — Human Wizard\n",
      "Legendary Creature — Human Wizard\n",
      "Legendary Planeswalker — Ashiok\n",
      "Legendary Planeswalker — Narset\n",
      "Legendary Planeswalker — Oko\n",
      "Legendary Planeswalker — Jace\n",
      "Instant\n",
      "Sorcery\n",
      "Instant\n",
      "Instant\n",
      "Sorcery\n",
      "Sorcery\n",
      "Instant\n",
      "Instant\n",
      "Instant\n",
      "Instant\n",
      "Instant\n",
      "Instant\n",
      "Instant\n",
      "Instant\n",
      "Sorcery\n",
      "Instant\n",
      "Sorcery\n",
      "Sorcery\n",
      "Instant\n",
      "Sorcery\n",
      "Instant\n",
      "Sorcery\n",
      "Sorcery\n",
      "Instant\n",
      "Instant\n",
      "Instant\n",
      "Sorcery\n",
      "Sorcery\n",
      "Sorcery\n",
      "Sorcery\n",
      "Instant\n",
      "Instant\n",
      "Instant\n",
      "Instant\n",
      "Sorcery\n",
      "Instant\n",
      "Sorcery\n",
      "Artifact\n",
      "Artifact\n",
      "Artifact\n",
      "Artifact\n",
      "Artifact\n",
      "Artifact\n",
      "Artifact\n",
      "Land — Swamp Forest\n",
      "Land\n",
      "Land — Forest Island\n",
      "Land\n",
      "Land\n",
      "Land\n",
      "Land Creature — Forest Dryad\n",
      "Land\n",
      "Basic Land — Forest\n",
      "Legendary Land\n",
      "Basic Land — Island\n",
      "Land\n",
      "Land\n",
      "Land\n",
      "Land — Swamp Forest\n",
      "Land\n",
      "Land\n",
      "Land\n",
      "Land\n",
      "Land\n",
      "Basic Snow Land — Forest\n",
      "Basic Snow Land — Island\n",
      "Basic Snow Land — Swamp\n",
      "Basic Land — Swamp\n",
      "Land — Forest Island\n",
      "Land — Island Swamp\n",
      "Land\n",
      "Land\n",
      "Land — Island Swamp\n",
      "Land\n",
      "Land\n",
      "Legendary Land\n"
     ]
    }
   ],
   "source": [
    "for e in resultados:\n",
    "    if e[0][1] == \"{\":\n",
    "        print(e[1][2:])\n",
    "    else:\n",
    "        print(e[0][1:])"
   ]
  },
  {
   "cell_type": "code",
   "execution_count": null,
   "metadata": {},
   "outputs": [],
   "source": []
  },
  {
   "cell_type": "code",
   "execution_count": null,
   "metadata": {},
   "outputs": [],
   "source": []
  },
  {
   "cell_type": "code",
   "execution_count": 51,
   "metadata": {},
   "outputs": [],
   "source": [
    "resultados = []\n",
    "for e in df[\"Emry,_Lurker_of_the_Loch08012021\"]:\n",
    "    if e.strip() in b:\n",
    "        resultados.append(b[f\"{e}\".strip()])\n",
    "    else:\n",
    "        print(e)"
   ]
  },
  {
   "cell_type": "code",
   "execution_count": 54,
   "metadata": {},
   "outputs": [],
   "source": [
    "resultados_tipo = []\n",
    "for e in resultados:\n",
    "    if e[0][0] == \"{\":\n",
    "        resultados_tipo.append(e[1].split(\"—\")[0].strip())\n",
    "    else:\n",
    "        resultados_tipo.append(e[0].split(\"—\")[0].strip())"
   ]
  },
  {
   "cell_type": "code",
   "execution_count": 55,
   "metadata": {},
   "outputs": [
    {
     "name": "stdout",
     "output_type": "stream",
     "text": [
      "100\n"
     ]
    },
    {
     "data": {
      "text/plain": [
       "[\"'{X}{X}\",\n",
       " \"'{1}{R}\",\n",
       " \"'{2}\",\n",
       " \"'{1}{U}\",\n",
       " \"'{2}\",\n",
       " \"'{2}{U}\",\n",
       " \"'{2}{U}\",\n",
       " \"'{2}{U}\",\n",
       " \"'{2}{U}\",\n",
       " \"'{3}\",\n",
       " \"'{2}{U}\",\n",
       " \"'{2}{U}\",\n",
       " \"'{2}{U}\",\n",
       " \"'Card\",\n",
       " \"'{0}\",\n",
       " \"'{U}\",\n",
       " \"'{U}\",\n",
       " \"'{U}\",\n",
       " \"'{U/P}\",\n",
       " \"'{U}\",\n",
       " \"'{U}\",\n",
       " \"'{U}\",\n",
       " \"'{U}\",\n",
       " \"'{U}\",\n",
       " \"'{U}\",\n",
       " \"'{U}\",\n",
       " \"'{U}\",\n",
       " \"'{1}{U}\",\n",
       " \"'{U}{U}\",\n",
       " \"'{1}{U}\",\n",
       " \"'{1}{U}\",\n",
       " \"'{1}{U}\",\n",
       " \"'{X}{U}{U}\",\n",
       " \"'{1}{U}\",\n",
       " \"'{1}{U}\",\n",
       " \"'{U}{U}\",\n",
       " \"'{1}{U}\",\n",
       " \"'{2}{U}\",\n",
       " \"'{2}{U}\",\n",
       " \"'{X}{U}{U}{U}\",\n",
       " \"'{1}{U}{U}\",\n",
       " \"'{3}{U}{U}\",\n",
       " \"'{4}{U}{U}{U}\",\n",
       " \"'{6}{U}{U}\",\n",
       " \"'{7}{U}\",\n",
       " \"'{0}\",\n",
       " \"'{0}\",\n",
       " \"'{0}\",\n",
       " \"'{0}\",\n",
       " \"'{0}\",\n",
       " \"'{0}\",\n",
       " \"'{0}\",\n",
       " \"'{0}\",\n",
       " \"'{0}\",\n",
       " \"'{0}\",\n",
       " \"'{0}\",\n",
       " \"'{0}\",\n",
       " \"'{1}\",\n",
       " \"'{1}\",\n",
       " \"'{1}\",\n",
       " \"'{1}\",\n",
       " \"'{1}\",\n",
       " \"'{1}\",\n",
       " \"'{1}\",\n",
       " \"'{1}\",\n",
       " \"'{1}\",\n",
       " \"'{2}\",\n",
       " \"'{2}\",\n",
       " \"'{2}\",\n",
       " \"'{3}\",\n",
       " \"'{4}\",\n",
       " \"'{5}\",\n",
       " \"'Legendary Land\",\n",
       " \"'Land\",\n",
       " \"'Land\",\n",
       " \"'Land\",\n",
       " \"'Land\",\n",
       " \"'Artifact Land\",\n",
       " \"'Land\",\n",
       " \"'Legendary Land\",\n",
       " \"'Legendary Land\",\n",
       " \"'Land\",\n",
       " \"'Land\",\n",
       " \"'Land\",\n",
       " \"'Land\",\n",
       " \"'Land\",\n",
       " \"'Land\",\n",
       " \"'Artifact Land\",\n",
       " \"'Land\",\n",
       " \"'Land\",\n",
       " \"'Basic Land\",\n",
       " \"'Basic Land\",\n",
       " \"'Basic Land\",\n",
       " \"'Basic Land\",\n",
       " \"'Basic Land\",\n",
       " \"'Basic Snow Land\",\n",
       " \"'Basic Snow Land\",\n",
       " \"'Basic Snow Land\",\n",
       " \"'Basic Snow Land\",\n",
       " \"'Basic Snow Land\"]"
      ]
     },
     "execution_count": 55,
     "metadata": {},
     "output_type": "execute_result"
    }
   ],
   "source": [
    "print(len(resultados_tipo))\n",
    "resultados_tipo"
   ]
  },
  {
   "cell_type": "code",
   "execution_count": 56,
   "metadata": {},
   "outputs": [],
   "source": [
    "criaturas = 0\n",
    "tierras = 0\n",
    "instantaneos = 0\n",
    "conjuros = 0\n",
    "planeswalker = 0\n",
    "creatures = [\"Creature\", \"Legendary Creature\", \"Artifact Creature\"]\n",
    "lands = [\"Land\", \"Land Creature\", \"Legendary Land\", \"Basic Snow Land\", \"Basic Land\", \"Artifact Land\"]\n",
    "\n",
    "for e in resultados_tipo:\n",
    "    if e.split(\"—\")[0].strip() in creatures:\n",
    "        criaturas += 1\n",
    "    elif e.split(\"—\")[0].strip() in lands:\n",
    "        tierras += 1\n",
    "    elif e.split(\"—\")[0].strip() == \"Legendary Planeswalker\":\n",
    "        planeswalker += 1\n",
    "    elif e.split(\"—\")[0].strip() == \"Instant\":\n",
    "        instantaneos += 1\n",
    "    elif e.split(\"—\")[0].strip() == \"Sorcery\":\n",
    "        conjuros += 1"
   ]
  },
  {
   "cell_type": "code",
   "execution_count": 57,
   "metadata": {},
   "outputs": [
    {
     "name": "stdout",
     "output_type": "stream",
     "text": [
      "Resumen:  \n",
      "Criaturas: 0\n",
      "Tierras: 0\n",
      "Instantaneos: 0\n",
      "Conjuros: 0\n",
      "Planeswalker: 0\n",
      "\n"
     ]
    }
   ],
   "source": [
    "print(\"Resumen:  \" + \"\\n\" +\n",
    "       f\"Criaturas: {criaturas}\" + \"\\n\" +\n",
    "       f\"Tierras: {tierras}\" + \"\\n\" +\n",
    "       f\"Instantaneos: {instantaneos}\" + \"\\n\" +\n",
    "       f\"Conjuros: {conjuros}\" + \"\\n\" +\n",
    "       f\"Planeswalker: {planeswalker}\" + \"\\n\")"
   ]
  },
  {
   "cell_type": "code",
   "execution_count": null,
   "metadata": {},
   "outputs": [],
   "source": []
  },
  {
   "cell_type": "code",
   "execution_count": null,
   "metadata": {},
   "outputs": [],
   "source": []
  },
  {
   "cell_type": "code",
   "execution_count": null,
   "metadata": {},
   "outputs": [],
   "source": []
  },
  {
   "cell_type": "code",
   "execution_count": null,
   "metadata": {},
   "outputs": [],
   "source": []
  }
 ],
 "metadata": {
  "kernelspec": {
   "display_name": "Python 3",
   "language": "python",
   "name": "python3"
  },
  "language_info": {
   "codemirror_mode": {
    "name": "ipython",
    "version": 3
   },
   "file_extension": ".py",
   "mimetype": "text/x-python",
   "name": "python",
   "nbconvert_exporter": "python",
   "pygments_lexer": "ipython3",
   "version": "3.8.7"
  }
 },
 "nbformat": 4,
 "nbformat_minor": 4
}
