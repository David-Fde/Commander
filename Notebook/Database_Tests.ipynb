{
 "cells": [
  {
   "cell_type": "code",
   "execution_count": 1,
   "metadata": {},
   "outputs": [],
   "source": [
    "import pickle\n",
    "import pandas as pd\n",
    "\n",
    "with open(r'..\\Datos\\Mtg_Database.pickle', 'rb') as handle:\n",
    "    b = pickle.load(handle)\n",
    "\n",
    "df = pd.read_excel(\"..\\Datos\\Decklists.xlsx\")"
   ]
  },
  {
   "cell_type": "code",
   "execution_count": 2,
   "metadata": {},
   "outputs": [
    {
     "data": {
      "text/plain": [
       "Index(['Emry,_Lurker_of_the_Loch08012021',\n",
       "       'Leovold,_Emissary_of_Trest08012021',\n",
       "       'Narset,_Enlightened_Master08012021',\n",
       "       'Winota,_Joiner_of_Forces08012021', 'Liesa,_Shroud_of_Dusk08012021',\n",
       "       'Winota,_Joiner_of_Forces13012021', 'Kenrith_Aristocrats_multi150121',\n",
       "       'Kess, Disident Mague18012021'],\n",
       "      dtype='object')"
      ]
     },
     "execution_count": 2,
     "metadata": {},
     "output_type": "execute_result"
    }
   ],
   "source": [
    "df.columns"
   ]
  },
  {
   "cell_type": "code",
   "execution_count": 64,
   "metadata": {},
   "outputs": [
    {
     "name": "stdout",
     "output_type": "stream",
     "text": [
      "Emry,_Lurker_of_the_Loch08012021\n",
      "Leovold,_Emissary_of_Trest08012021\n",
      "Narset,_Enlightened_Master08012021\n",
      "Winota,_Joiner_of_Forces08012021\n",
      "Liesa,_Shroud_of_Dusk08012021\n",
      "Winota,_Joiner_of_Forces13012021\n",
      "Kenrith_Aristocrats_multi150121\n",
      "Kess, Disident Mague18012021\n"
     ]
    }
   ],
   "source": [
    "for e in df.columns:\n",
    "    print(e)"
   ]
  },
  {
   "cell_type": "code",
   "execution_count": 47,
   "metadata": {},
   "outputs": [],
   "source": [
    "df2 = df[\"Narset,_Enlightened_Master08012021\"]"
   ]
  },
  {
   "cell_type": "code",
   "execution_count": 48,
   "metadata": {},
   "outputs": [],
   "source": [
    "resultados = []\n",
    "for e in df2:\n",
    "    if e.strip() in b.keys():\n",
    "        resultados.append(b[e.strip()])\n",
    "    else:\n",
    "        print(e)"
   ]
  },
  {
   "cell_type": "code",
   "execution_count": 49,
   "metadata": {},
   "outputs": [
    {
     "data": {
      "text/plain": [
       "100"
      ]
     },
     "execution_count": 49,
     "metadata": {},
     "output_type": "execute_result"
    }
   ],
   "source": [
    "len(resultados)"
   ]
  },
  {
   "cell_type": "code",
   "execution_count": 50,
   "metadata": {},
   "outputs": [],
   "source": [
    "tipos_de_carta = []\n",
    "for e in resultados:\n",
    "    if e[0][1] == \"{\":\n",
    "        tipos_de_carta.append(e[1][2:])\n",
    "    else:\n",
    "        tipos_de_carta.append(e[0][1:])"
   ]
  },
  {
   "cell_type": "code",
   "execution_count": 62,
   "metadata": {},
   "outputs": [],
   "source": [
    "criaturas = 0\n",
    "tierras = 0\n",
    "instantaneos = 0\n",
    "conjuros = 0\n",
    "planeswalker = 0\n",
    "artefactos = 0\n",
    "encantamientos = 0\n",
    "creatures = [\"Creature\", \"Legendary Creature\", \"Artifact Creature\", \"Land Creature\"]\n",
    "lands = [\"Land\", \"Land Creature\", \"Legendary Land\", \"Basic Snow Land\", \"Basic Land\", \"Artifact Land\", \"Legendary Sorcery\"]\n",
    "artifacts = [\"Artifact Creature\", \"Artifact\", \"Artifact Land\", \"Legendary Artifact\"]\n",
    "enchantments = [\"Enchantment\", \"Enchantment Creature\", \"Legendary Enchantment Creature\"]\n",
    "\n",
    "for e in tipos_de_carta:\n",
    "    if e.split(\"—\")[0].strip().split(\"—\")[0] in creatures:\n",
    "        criaturas += 1\n",
    "    elif e.split(\"—\")[0].strip().split(\"—\")[0] in lands:\n",
    "        tierras += 1\n",
    "    elif e.split(\"—\")[0].strip().split(\"—\")[0] in artifacts:\n",
    "        artefactos += 1\n",
    "    elif e.split(\"—\")[0].strip().split(\"—\")[0] in enchantments:\n",
    "        encantamientos += 1\n",
    "    elif e.split(\"—\")[0].strip() == \"Legendary Planeswalker\":\n",
    "        planeswalker += 1\n",
    "    elif e.split(\"—\")[0].strip() == \"Instant\":\n",
    "        instantaneos += 1\n",
    "    elif e.split(\"—\")[0].strip() == \"Sorcery\":\n",
    "        conjuros += 1\n",
    "    else:\n",
    "        print(e)\n",
    "total = criaturas + tierras + instantaneos + conjuros + planeswalker + artefactos + encantamientos"
   ]
  },
  {
   "cell_type": "code",
   "execution_count": 63,
   "metadata": {},
   "outputs": [
    {
     "name": "stdout",
     "output_type": "stream",
     "text": [
      "Resumen:  \n",
      "Criaturas: 2\n",
      "Tierras: 34\n",
      "Instantaneos: 16\n",
      "Conjuros: 19\n",
      "Artefactos: 20\n",
      "Encantamientos: 1\n",
      "Planeswalker: 8\n",
      "Total: 100\n"
     ]
    }
   ],
   "source": [
    "print(\"Resumen:  \" + \"\\n\" +\n",
    "       f\"Criaturas: {criaturas}\" + \"\\n\" +\n",
    "       f\"Tierras: {tierras}\" + \"\\n\" +\n",
    "       f\"Instantaneos: {instantaneos}\" + \"\\n\" +\n",
    "       f\"Conjuros: {conjuros}\" + \"\\n\" +\n",
    "       f\"Artefactos: {artefactos}\" + \"\\n\" +\n",
    "       f\"Encantamientos: {encantamientos}\" + \"\\n\" +\n",
    "       f\"Planeswalker: {planeswalker}\" + \"\\n\" +\n",
    "       f\"Total: {total}\")"
   ]
  },
  {
   "cell_type": "code",
   "execution_count": null,
   "metadata": {},
   "outputs": [],
   "source": []
  },
  {
   "cell_type": "code",
   "execution_count": null,
   "metadata": {},
   "outputs": [],
   "source": []
  },
  {
   "cell_type": "code",
   "execution_count": null,
   "metadata": {},
   "outputs": [],
   "source": []
  },
  {
   "cell_type": "code",
   "execution_count": null,
   "metadata": {},
   "outputs": [],
   "source": []
  }
 ],
 "metadata": {
  "kernelspec": {
   "display_name": "Python 3",
   "language": "python",
   "name": "python3"
  },
  "language_info": {
   "codemirror_mode": {
    "name": "ipython",
    "version": 3
   },
   "file_extension": ".py",
   "mimetype": "text/x-python",
   "name": "python",
   "nbconvert_exporter": "python",
   "pygments_lexer": "ipython3",
   "version": "3.8.6"
  }
 },
 "nbformat": 4,
 "nbformat_minor": 4
}
