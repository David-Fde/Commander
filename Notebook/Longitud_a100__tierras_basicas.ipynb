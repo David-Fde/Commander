{
 "cells": [
  {
   "cell_type": "code",
   "execution_count": 5,
   "metadata": {},
   "outputs": [],
   "source": [
    "import os\n",
    "import pandas as pd"
   ]
  },
  {
   "cell_type": "code",
   "execution_count": 6,
   "metadata": {},
   "outputs": [
    {
     "data": {
      "text/plain": [
       "['Emry, Lurker of the Loch.txt',\n",
       " 'Leovold, Emissary of Trest.txt',\n",
       " 'Liesa, Shroud of Dusk.txt',\n",
       " 'Narset, Enlightened Master.txt',\n",
       " 'new 1.txt',\n",
       " 'Winota, Joiner of Forces.txt']"
      ]
     },
     "execution_count": 6,
     "metadata": {},
     "output_type": "execute_result"
    }
   ],
   "source": [
    "#ruta = r\"C:\\Users\\dfernandez\\Documents\\Proyectos_Python\\Commander\\Datos\\PlainText_Decklists\"\n",
    "ruta = r\"C:\\Users\\David\\Documents\\Proyectos_Python\\Commander\\Datos\\PlainText_Decklists\"\n",
    "lista = os.listdir(ruta)\n",
    "lista"
   ]
  },
  {
   "cell_type": "code",
   "execution_count": 7,
   "metadata": {},
   "outputs": [],
   "source": [
    "opcion = 2\n",
    "PlainText_Decklists = r\"..\\Datos\\PlainText_Decklists\"\n",
    "lista = os.listdir(PlainText_Decklists)\n",
    "f = open(PlainText_Decklists + f\"\\{lista[opcion]}\",\"r+\")\n",
    "text = f.read()\n",
    "text = text.splitlines()\n",
    "if text[0][1] == \" \":\n",
    "    for e in range(len(text)):\n",
    "        text[e] = text[e].rstrip()\n",
    "        if text[e][0] != \"1\":\n",
    "            contador = 0\n",
    "            while contador < int(text[e][0]):\n",
    "                text.append(f\"1 {text[e][2:]}\")\n",
    "                contador += 1\n",
    "            text.remove(text[e])\n",
    "    for e in range(len(text)):\n",
    "        text[e] = text[e][2:]\n",
    "        print(text[e])"
   ]
  },
  {
   "cell_type": "code",
   "execution_count": 4,
   "metadata": {},
   "outputs": [
    {
     "data": {
      "text/plain": [
       "98"
      ]
     },
     "execution_count": 4,
     "metadata": {},
     "output_type": "execute_result"
    }
   ],
   "source": [
    "len(text)"
   ]
  },
  {
   "cell_type": "code",
   "execution_count": 8,
   "metadata": {},
   "outputs": [
    {
     "data": {
      "text/plain": [
       "'n'"
      ]
     },
     "execution_count": 8,
     "metadata": {},
     "output_type": "execute_result"
    }
   ],
   "source": [
    "text[0][1]"
   ]
  },
  {
   "cell_type": "code",
   "execution_count": 361,
   "metadata": {},
   "outputs": [],
   "source": [
    "for e in range(len(text)):\n",
    "    text[e] = text[e][2:]"
   ]
  },
  {
   "cell_type": "code",
   "execution_count": null,
   "metadata": {},
   "outputs": [],
   "source": []
  },
  {
   "cell_type": "code",
   "execution_count": null,
   "metadata": {},
   "outputs": [],
   "source": []
  }
 ],
 "metadata": {
  "kernelspec": {
   "display_name": "Python 3",
   "language": "python",
   "name": "python3"
  },
  "language_info": {
   "codemirror_mode": {
    "name": "ipython",
    "version": 3
   },
   "file_extension": ".py",
   "mimetype": "text/x-python",
   "name": "python",
   "nbconvert_exporter": "python",
   "pygments_lexer": "ipython3",
   "version": "3.8.7"
  }
 },
 "nbformat": 4,
 "nbformat_minor": 4
}
