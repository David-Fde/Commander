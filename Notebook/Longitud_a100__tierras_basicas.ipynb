{
 "cells": [
  {
   "cell_type": "code",
   "execution_count": 377,
   "metadata": {},
   "outputs": [],
   "source": [
    "import os\n",
    "import pandas as pd"
   ]
  },
  {
   "cell_type": "code",
   "execution_count": 378,
   "metadata": {},
   "outputs": [
    {
     "data": {
      "text/plain": [
       "['Emry, Lurker of the Loch.txt',\n",
       " 'Leovold, Emissary of Trest.txt',\n",
       " 'Narset, Enlightened Master.txt',\n",
       " 'Winota, Joiner of Forces.txt']"
      ]
     },
     "execution_count": 378,
     "metadata": {},
     "output_type": "execute_result"
    }
   ],
   "source": [
    "ruta = r\"C:\\Users\\dfernandez\\Documents\\Proyectos_Python\\Commander\\Datos\\PlainText_Decklists\"\n",
    "lista = os.listdir(ruta)\n",
    "lista"
   ]
  },
  {
   "cell_type": "code",
   "execution_count": 418,
   "metadata": {},
   "outputs": [
    {
     "name": "stdout",
     "output_type": "stream",
     "text": [
      "Walking Ballista\n",
      "Aether Chaser\n",
      "Myr Retriever\n",
      "Snapcaster Mage\n",
      "Spellskite\n",
      "Emry, Lurker of the Loch\n",
      "Laboratory Maniac\n",
      "Mirran Spy\n",
      "Sai, Master Thopterist\n",
      "Scrap Trawler\n",
      "Spellseeker\n",
      "Trinket Mage\n",
      "Trophy Mage\n",
      "Urza, Lord High Artificer\n",
      "Pact of Negation\n",
      "Brainstorm\n",
      "Dispel\n",
      "Force Spike\n",
      "Mental Misstep\n",
      "Mystical Tutor\n",
      "Ponder\n",
      "Pongify\n",
      "Preordain\n",
      "Rapid Hybridization\n",
      "Serum Visions\n",
      "Spell Pierce\n",
      "Swan Song\n",
      "Arcane Denial\n",
      "Counterspell\n",
      "Cyclonic Rift\n",
      "Daze\n",
      "Delay\n",
      "Logic Knot\n",
      "Memory Lapse\n",
      "Merchant Scroll\n",
      "Muddle the Mixture\n",
      "Negate\n",
      "Fabricate\n",
      "Fierce Guardianship\n",
      "Whir of Invention\n",
      "Wizard's Retort\n",
      "Force of Will\n",
      "Sea Gate Restoration\n",
      "Dig Through Time\n",
      "Treasure Cruise\n",
      "Chrome Mox\n",
      "Everflowing Chalice\n",
      "Lodestone Bauble\n",
      "Lotus Petal\n",
      "Mana Crypt\n",
      "Mishra's Bauble\n",
      "Mox Amber\n",
      "Mox Diamond\n",
      "Mox Opal\n",
      "Tormod's Crypt\n",
      "Urza's Bauble\n",
      "Welding Jar\n",
      "Aether Spellbomb\n",
      "Chromatic Sphere\n",
      "Chromatic Star\n",
      "Conjurer's Bauble\n",
      "Expedition Map\n",
      "Mana Vault\n",
      "Manifold Key\n",
      "Sol Ring\n",
      "Voltaic Key\n",
      "Arcane Signet\n",
      "Grim Monolith\n",
      "Mind Stone\n",
      "Commander's Sphere\n",
      "Krark-Clan Ironworks\n",
      "Paradox Engine\n",
      "Academy Ruins\n",
      "Ancient Tomb\n",
      "Blast Zone\n",
      "Cavern of Souls\n",
      "Cephalid Coliseum\n",
      "Darksteel Citadel\n",
      "Flooded Strand\n",
      "Inventors' Fair\n",
      "Minamo, School at Water's Edge  \n",
      "Misty Rainforest\n",
      "Mystic Sanctuary\n",
      "Polluted Delta\n",
      "Prismatic Vista\n",
      "Riptide Laboratory\n",
      "Scalding Tarn\n",
      "Seat of the Synod\n",
      "Tectonic Edge  \n",
      "Wasteland\n",
      "Island\n",
      "Island\n",
      "Island\n",
      "Island\n",
      "Island\n",
      "Snow-Covered Island\n",
      "Snow-Covered Island\n",
      "Snow-Covered Island\n",
      "Snow-Covered Island\n",
      "Snow-Covered Island\n"
     ]
    }
   ],
   "source": [
    "opcion = 0\n",
    "PlainText_Decklists = r\"..\\Datos\\PlainText_Decklists\"\n",
    "lista = os.listdir(PlainText_Decklists)\n",
    "f = open(PlainText_Decklists + f\"\\{lista[opcion]}\",\"r+\")\n",
    "'''text = f.read()\n",
    "text = text.splitlines()\n",
    "print(text[0][1])\n",
    "if text[0][1] == \" \":\n",
    "    for e in range(len(text)):\n",
    "        text[e] = text[e].rstrip()\n",
    "        if text[e][0] != \"1\":\n",
    "            contador = 0\n",
    "            while contador < int(text[e][0]):\n",
    "                text.append(f\"1 {text[e]}\")\n",
    "                contador += 1\n",
    "            text.remove(text[e])\n",
    "        text[e] = text[e][2:]\n",
    "        print(text[e])\n",
    "'''\n",
    "text = f.read()\n",
    "text = text.splitlines()\n",
    "if text[0][1] == \" \":\n",
    "    for e in range(len(text)):\n",
    "        text[e] = text[e].rstrip()\n",
    "        if text[e][0] != \"1\":\n",
    "            contador = 0\n",
    "            while contador < int(text[e][0]):\n",
    "                text.append(f\"1 {text[e][2:]}\")\n",
    "                contador += 1\n",
    "            text.remove(text[e])\n",
    "    for e in range(len(text)):\n",
    "        text[e] = text[e][2:]\n",
    "        print(text[e])"
   ]
  },
  {
   "cell_type": "code",
   "execution_count": 412,
   "metadata": {},
   "outputs": [
    {
     "data": {
      "text/plain": [
       "100"
      ]
     },
     "execution_count": 412,
     "metadata": {},
     "output_type": "execute_result"
    }
   ],
   "source": [
    "len(text)"
   ]
  },
  {
   "cell_type": "code",
   "execution_count": null,
   "metadata": {},
   "outputs": [],
   "source": []
  },
  {
   "cell_type": "code",
   "execution_count": 361,
   "metadata": {},
   "outputs": [],
   "source": [
    "for e in range(len(text)):\n",
    "    text[e] = text[e][2:]"
   ]
  },
  {
   "cell_type": "code",
   "execution_count": 362,
   "metadata": {},
   "outputs": [
    {
     "data": {
      "text/plain": [
       "['Walking Ballista',\n",
       " 'Aether Chaser',\n",
       " 'Myr Retriever',\n",
       " 'Snapcaster Mage',\n",
       " 'Spellskite',\n",
       " 'Emry, Lurker of the Loch',\n",
       " 'Laboratory Maniac',\n",
       " 'Mirran Spy',\n",
       " 'Sai, Master Thopterist',\n",
       " 'Scrap Trawler',\n",
       " 'Spellseeker',\n",
       " 'Trinket Mage',\n",
       " 'Trophy Mage',\n",
       " 'Urza, Lord High Artificer',\n",
       " 'Pact of Negation',\n",
       " 'Brainstorm',\n",
       " 'Dispel',\n",
       " 'Force Spike',\n",
       " 'Mental Misstep',\n",
       " 'Mystical Tutor',\n",
       " 'Ponder',\n",
       " 'Pongify',\n",
       " 'Preordain',\n",
       " 'Rapid Hybridization',\n",
       " 'Serum Visions',\n",
       " 'Spell Pierce',\n",
       " 'Swan Song',\n",
       " 'Arcane Denial',\n",
       " 'Counterspell',\n",
       " 'Cyclonic Rift',\n",
       " 'Daze',\n",
       " 'Delay',\n",
       " 'Logic Knot',\n",
       " 'Memory Lapse',\n",
       " 'Merchant Scroll',\n",
       " 'Muddle the Mixture',\n",
       " 'Negate',\n",
       " 'Fabricate',\n",
       " 'Fierce Guardianship',\n",
       " 'Whir of Invention',\n",
       " \"Wizard's Retort\",\n",
       " 'Force of Will',\n",
       " 'Sea Gate Restoration',\n",
       " 'Dig Through Time',\n",
       " 'Treasure Cruise',\n",
       " 'Chrome Mox',\n",
       " 'Everflowing Chalice',\n",
       " 'Lodestone Bauble',\n",
       " 'Lotus Petal',\n",
       " 'Mana Crypt',\n",
       " \"Mishra's Bauble\",\n",
       " 'Mox Amber',\n",
       " 'Mox Diamond',\n",
       " 'Mox Opal',\n",
       " \"Tormod's Crypt\",\n",
       " \"Urza's Bauble\",\n",
       " 'Welding Jar',\n",
       " 'Aether Spellbomb',\n",
       " 'Chromatic Sphere',\n",
       " 'Chromatic Star',\n",
       " \"Conjurer's Bauble\",\n",
       " 'Expedition Map',\n",
       " 'Mana Vault',\n",
       " 'Manifold Key',\n",
       " 'Sol Ring',\n",
       " 'Voltaic Key',\n",
       " 'Arcane Signet',\n",
       " 'Grim Monolith',\n",
       " 'Mind Stone',\n",
       " \"Commander's Sphere\",\n",
       " 'Krark-Clan Ironworks',\n",
       " 'Paradox Engine',\n",
       " 'Academy Ruins',\n",
       " 'Ancient Tomb',\n",
       " 'Blast Zone',\n",
       " 'Cavern of Souls',\n",
       " 'Cephalid Coliseum',\n",
       " 'Darksteel Citadel',\n",
       " 'Flooded Strand',\n",
       " \"Inventors' Fair\",\n",
       " \"Minamo, School at Water's Edge  \",\n",
       " 'Misty Rainforest',\n",
       " 'Mystic Sanctuary',\n",
       " 'Polluted Delta',\n",
       " 'Prismatic Vista',\n",
       " 'Riptide Laboratory',\n",
       " 'Scalding Tarn',\n",
       " 'Seat of the Synod',\n",
       " 'Tectonic Edge  ',\n",
       " 'Wasteland',\n",
       " 'Island',\n",
       " 'Island',\n",
       " 'Island',\n",
       " 'Island',\n",
       " 'Island',\n",
       " 'Snow-Covered Island',\n",
       " 'Snow-Covered Island',\n",
       " 'Snow-Covered Island',\n",
       " 'Snow-Covered Island',\n",
       " 'Snow-Covered Island']"
      ]
     },
     "execution_count": 362,
     "metadata": {},
     "output_type": "execute_result"
    }
   ],
   "source": [
    "text"
   ]
  },
  {
   "cell_type": "code",
   "execution_count": 342,
   "metadata": {},
   "outputs": [
    {
     "data": {
      "text/plain": [
       "'Walking Ballista'"
      ]
     },
     "execution_count": 342,
     "metadata": {},
     "output_type": "execute_result"
    }
   ],
   "source": [
    "text[0][2:]"
   ]
  },
  {
   "cell_type": "code",
   "execution_count": null,
   "metadata": {},
   "outputs": [],
   "source": []
  }
 ],
 "metadata": {
  "kernelspec": {
   "display_name": "Python 3",
   "language": "python",
   "name": "python3"
  },
  "language_info": {
   "codemirror_mode": {
    "name": "ipython",
    "version": 3
   },
   "file_extension": ".py",
   "mimetype": "text/x-python",
   "name": "python",
   "nbconvert_exporter": "python",
   "pygments_lexer": "ipython3",
   "version": "3.8.6"
  }
 },
 "nbformat": 4,
 "nbformat_minor": 4
}
