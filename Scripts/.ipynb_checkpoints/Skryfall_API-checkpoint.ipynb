{
 "cells": [
  {
   "cell_type": "code",
   "execution_count": 1,
   "metadata": {},
   "outputs": [],
   "source": [
    "import requests"
   ]
  },
  {
   "cell_type": "code",
   "execution_count": 86,
   "metadata": {},
   "outputs": [],
   "source": [
    "url = \"https://api.scryfall.com/cards/named?fuzzy=Goblin+guide\""
   ]
  },
  {
   "cell_type": "code",
   "execution_count": 87,
   "metadata": {},
   "outputs": [],
   "source": [
    "r = requests.get(url)"
   ]
  },
  {
   "cell_type": "code",
   "execution_count": 88,
   "metadata": {},
   "outputs": [
    {
     "data": {
      "text/plain": [
       "{'object': 'card',\n",
       " 'id': '3c0f5411-1940-410f-96ce-6f92513f753a',\n",
       " 'oracle_id': '51d9564b-44fc-4de1-9119-09d7b4089378',\n",
       " 'multiverse_ids': [489800],\n",
       " 'mtgo_id': 82288,\n",
       " 'tcgplayer_id': 218846,\n",
       " 'cardmarket_id': 485919,\n",
       " 'name': 'Goblin Guide',\n",
       " 'lang': 'en',\n",
       " 'released_at': '2020-08-07',\n",
       " 'uri': 'https://api.scryfall.com/cards/3c0f5411-1940-410f-96ce-6f92513f753a',\n",
       " 'scryfall_uri': 'https://scryfall.com/card/2xm/127/goblin-guide?utm_source=api',\n",
       " 'layout': 'normal',\n",
       " 'highres_image': True,\n",
       " 'image_status': 'highres_scan',\n",
       " 'image_uris': {'small': 'https://c1.scryfall.com/file/scryfall-cards/small/front/3/c/3c0f5411-1940-410f-96ce-6f92513f753a.jpg?1599706366',\n",
       "  'normal': 'https://c1.scryfall.com/file/scryfall-cards/normal/front/3/c/3c0f5411-1940-410f-96ce-6f92513f753a.jpg?1599706366',\n",
       "  'large': 'https://c1.scryfall.com/file/scryfall-cards/large/front/3/c/3c0f5411-1940-410f-96ce-6f92513f753a.jpg?1599706366',\n",
       "  'png': 'https://c1.scryfall.com/file/scryfall-cards/png/front/3/c/3c0f5411-1940-410f-96ce-6f92513f753a.png?1599706366',\n",
       "  'art_crop': 'https://c1.scryfall.com/file/scryfall-cards/art_crop/front/3/c/3c0f5411-1940-410f-96ce-6f92513f753a.jpg?1599706366',\n",
       "  'border_crop': 'https://c1.scryfall.com/file/scryfall-cards/border_crop/front/3/c/3c0f5411-1940-410f-96ce-6f92513f753a.jpg?1599706366'},\n",
       " 'mana_cost': '{R}',\n",
       " 'cmc': 1.0,\n",
       " 'type_line': 'Creature — Goblin Scout',\n",
       " 'oracle_text': \"Haste\\nWhenever Goblin Guide attacks, defending player reveals the top card of their library. If it's a land card, that player puts it into their hand.\",\n",
       " 'power': '2',\n",
       " 'toughness': '2',\n",
       " 'colors': ['R'],\n",
       " 'color_identity': ['R'],\n",
       " 'keywords': ['Haste'],\n",
       " 'legalities': {'standard': 'not_legal',\n",
       "  'future': 'not_legal',\n",
       "  'historic': 'not_legal',\n",
       "  'gladiator': 'not_legal',\n",
       "  'pioneer': 'not_legal',\n",
       "  'modern': 'legal',\n",
       "  'legacy': 'legal',\n",
       "  'pauper': 'not_legal',\n",
       "  'vintage': 'legal',\n",
       "  'penny': 'not_legal',\n",
       "  'commander': 'legal',\n",
       "  'brawl': 'not_legal',\n",
       "  'duel': 'legal',\n",
       "  'oldschool': 'not_legal',\n",
       "  'premodern': 'not_legal'},\n",
       " 'games': ['paper', 'mtgo'],\n",
       " 'reserved': False,\n",
       " 'foil': True,\n",
       " 'nonfoil': True,\n",
       " 'oversized': False,\n",
       " 'promo': False,\n",
       " 'reprint': True,\n",
       " 'variation': False,\n",
       " 'set': '2xm',\n",
       " 'set_name': 'Double Masters',\n",
       " 'set_type': 'masters',\n",
       " 'set_uri': 'https://api.scryfall.com/sets/372dafe8-b5d1-4b81-998f-3ae96b59498a',\n",
       " 'set_search_uri': 'https://api.scryfall.com/cards/search?order=set&q=e%3A2xm&unique=prints',\n",
       " 'scryfall_set_uri': 'https://scryfall.com/sets/2xm?utm_source=api',\n",
       " 'rulings_uri': 'https://api.scryfall.com/cards/3c0f5411-1940-410f-96ce-6f92513f753a/rulings',\n",
       " 'prints_search_uri': 'https://api.scryfall.com/cards/search?order=released&q=oracleid%3A51d9564b-44fc-4de1-9119-09d7b4089378&unique=prints',\n",
       " 'collector_number': '127',\n",
       " 'digital': False,\n",
       " 'rarity': 'rare',\n",
       " 'flavor_text': '\"I\\'ve been all over this world. I even remember some of those places.\"',\n",
       " 'card_back_id': '0aeebaf5-8c7d-4636-9e82-8c27447861f7',\n",
       " 'artist': 'Filip Burburan',\n",
       " 'artist_ids': ['66082c3b-a623-4d34-be51-2475214b85d3'],\n",
       " 'illustration_id': '750de145-cbd4-4d8e-b28e-0911f0cc5734',\n",
       " 'border_color': 'black',\n",
       " 'frame': '2015',\n",
       " 'full_art': False,\n",
       " 'textless': False,\n",
       " 'booster': True,\n",
       " 'story_spotlight': False,\n",
       " 'edhrec_rank': 8656,\n",
       " 'preview': {'source': 'MTGGoldfish',\n",
       "  'source_uri': 'https://www.mtggoldfish.com/articles/turning-red-exclusive-double-masters-previews',\n",
       "  'previewed_at': '2020-07-27'},\n",
       " 'prices': {'usd': '6.61',\n",
       "  'usd_foil': '6.03',\n",
       "  'eur': '3.68',\n",
       "  'eur_foil': '6.50',\n",
       "  'tix': '1.59'},\n",
       " 'related_uris': {'gatherer': 'https://gatherer.wizards.com/Pages/Card/Details.aspx?multiverseid=489800',\n",
       "  'tcgplayer_infinite_articles': 'https://infinite.tcgplayer.com/search?contentMode=article&game=magic&partner=scryfall&q=Goblin+Guide&utm_campaign=affiliate&utm_medium=api&utm_source=scryfall',\n",
       "  'tcgplayer_infinite_decks': 'https://infinite.tcgplayer.com/search?contentMode=deck&game=magic&partner=scryfall&q=Goblin+Guide&utm_campaign=affiliate&utm_medium=api&utm_source=scryfall',\n",
       "  'edhrec': 'https://edhrec.com/route/?cc=Goblin+Guide',\n",
       "  'mtgtop8': 'https://mtgtop8.com/search?MD_check=1&SB_check=1&cards=Goblin+Guide'},\n",
       " 'purchase_uris': {'tcgplayer': 'https://shop.tcgplayer.com/product/productsearch?id=218846&utm_campaign=affiliate&utm_medium=api&utm_source=scryfall',\n",
       "  'cardmarket': 'https://www.cardmarket.com/en/Magic/Products/Search?referrer=scryfall&searchString=Goblin+Guide&utm_campaign=card_prices&utm_medium=text&utm_source=scryfall',\n",
       "  'cardhoarder': 'https://www.cardhoarder.com/cards/82288?affiliate_id=scryfall&ref=card-profile&utm_campaign=affiliate&utm_medium=card&utm_source=scryfall'}}"
      ]
     },
     "execution_count": 88,
     "metadata": {},
     "output_type": "execute_result"
    }
   ],
   "source": [
    "r.json()"
   ]
  },
  {
   "cell_type": "code",
   "execution_count": 89,
   "metadata": {},
   "outputs": [],
   "source": [
    "x = r.json().get('name')"
   ]
  },
  {
   "cell_type": "code",
   "execution_count": 90,
   "metadata": {},
   "outputs": [
    {
     "name": "stdout",
     "output_type": "stream",
     "text": [
      "Goblin Guide\n"
     ]
    }
   ],
   "source": [
    "print(x)"
   ]
  }
 ],
 "metadata": {
  "kernelspec": {
   "display_name": "Python 3",
   "language": "python",
   "name": "python3"
  },
  "language_info": {
   "codemirror_mode": {
    "name": "ipython",
    "version": 3
   },
   "file_extension": ".py",
   "mimetype": "text/x-python",
   "name": "python",
   "nbconvert_exporter": "python",
   "pygments_lexer": "ipython3",
   "version": "3.8.6"
  }
 },
 "nbformat": 4,
 "nbformat_minor": 4
}
