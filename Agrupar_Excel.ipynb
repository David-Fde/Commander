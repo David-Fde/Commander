{
 "cells": [
  {
   "cell_type": "code",
   "execution_count": 1,
   "metadata": {},
   "outputs": [],
   "source": [
    "import pandas as pd\n",
    "import os"
   ]
  },
  {
   "cell_type": "code",
   "execution_count": 2,
   "metadata": {},
   "outputs": [
    {
     "name": "stdout",
     "output_type": "stream",
     "text": [
      "Battlebond.xlsx\n",
      "Commander.xlsx\n",
      "Commander_2013.xlsx\n",
      "Commander_2014.xlsx\n",
      "Commander_2015.xlsx\n",
      "Commander_2016.xlsx\n",
      "Commander_2017.xlsx\n",
      "Commander_2018.xlsx\n",
      "Commander_2019.xlsx\n",
      "Commander_2020.xlsx\n",
      "Commander_Anthology.xlsx\n",
      "Commander_Legends.xlsx\n",
      "Conspiracy.xlsx\n",
      "Conspiracy_Take_The_Crown.xlsx\n",
      "Double_Masters.xlsx\n",
      "Eternal_Masters.xlsx\n",
      "Iconic_Masters.xlsx\n",
      "Jumpstart.xlsx\n",
      "Masters_25.xlsx\n",
      "Modern_Horizons.xlsx\n",
      "Modern_Masters.xlsx\n",
      "Modern_Masters_2015.xlsx\n",
      "Modern_Masters_2017.xlsx\n",
      "Planechase.xlsx\n",
      "Planechase_2012.xlsx\n",
      "Ultimate_Masters.xlsx\n",
      "Zendikar_Commander.xlsx\n"
     ]
    }
   ],
   "source": [
    "df = pd.DataFrame()\n",
    "for filename in os.listdir(\"Excel_Colecciones\"):\n",
    "    if filename.endswith(\".xlsx\"):\n",
    "        print(filename)\n",
    "        df2 = pd.read_excel(f\"Excel_Colecciones\\{filename}\")\n",
    "    df = pd.concat([df,df2])\n",
    "df.to_excel(\"Datos\\Excel_total.xlsx\", index=False)"
   ]
  },
  {
   "cell_type": "code",
   "execution_count": null,
   "metadata": {},
   "outputs": [],
   "source": []
  }
 ],
 "metadata": {
  "kernelspec": {
   "display_name": "Python 3",
   "language": "python",
   "name": "python3"
  },
  "language_info": {
   "codemirror_mode": {
    "name": "ipython",
    "version": 3
   },
   "file_extension": ".py",
   "mimetype": "text/x-python",
   "name": "python",
   "nbconvert_exporter": "python",
   "pygments_lexer": "ipython3",
   "version": "3.8.6"
  }
 },
 "nbformat": 4,
 "nbformat_minor": 4
}
